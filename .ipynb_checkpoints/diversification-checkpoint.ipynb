{
 "cells": [
  {
   "cell_type": "markdown",
   "metadata": {
    "slideshow": {
     "slide_type": "slide"
    }
   },
   "source": [
    "<font size=\"5\">\n",
    "\n",
    "### Eco-evolutionary dynamics on networks: From diversification to coexistence in complex ecosystems\n",
    "<font size=\"3\">\n",
    "    \n",
    "--------------------------------------------------------\n",
    "Carlos J. Melián, Ifisc, Mallorca, June 15, 2022\n",
    "### https://github.com/melian009/Diversa.git\n",
    "--------------------------------------------------------\n"
   ]
  },
  {
   "cell_type": "markdown",
   "metadata": {
    "slideshow": {
     "slide_type": "subslide"
    }
   },
   "source": [
    "## Outline\n",
    "\n",
    "# What is a species? \n",
    "## Does diversification increase in the tropics?\n",
    "### Why are there some lineages with many species while others have just a few?\n",
    "#### How does the simplest diversification model look like? \n",
    "##### How do diversification and coexistence connect each other in complex ecosystems?\n"
   ]
  },
  {
   "cell_type": "markdown",
   "metadata": {
    "slideshow": {
     "slide_type": "subslide"
    }
   },
   "source": [
    "<img src=\"figures/collaborators.png\" alt=\"drawing\" width=\"800\"/>"
   ]
  },
  {
   "cell_type": "markdown",
   "metadata": {
    "slideshow": {
     "slide_type": "subslide"
    }
   },
   "source": [
    "### References \n",
    "\n",
    "<font size=\"2\">\n",
    "##### What is a species?\n",
    "* Mayr, E. (1942). Systematics and the origin of species from the viewpoint of a zoologist. New York: Columbia University Press.\n",
    "* Higgs PG, Derrida B (1992) Genetic distance and species formation in evolving populations. J. Mol. Evol., 35:454–465.\n",
    "\n",
    "<font size=\"2\">\n",
    "##### Do the tropics produce more species?\n",
    "* Brown, J. (2014). Why are there so many species in the tropics? J. of Biogeography, 41:8-22  \n",
    "* Mannion, P. D., et al (2014). The latitudinal biodiversity gradient through deep time. TREE, 29:42-50.\n",
    "* Leprieur, F. et al. (2016). Plate tectonics drive tropical reef biodiversity dynamics. Nature Communications, 7:1-8   \n",
    "      \n",
    "<font size=\"2\">      \n",
    "##### Why are there some lineages with many species while others have just a few?\n",
    "* Davies, TJ, Allen, AP, Borda‐de‐Água, L, Regetz, J, and Melián CJ (2011). Neutral biodiversity theory can explain the imbalance of phylogenetic trees but not the tempo of their diversification. Evolution 65:1841-1850.\n",
    "\n",
    "<font size=\"2\">\n",
    "##### How do diversification and coexistence connect each other in complex ecosystems?\n",
    "* Melián CJ, Alonso D, Vázquez DP, Regetz J, and Allesina S (2010) Frequency-Dependent Selection Predicts Patterns of Radiations and Biodiversity. PLOS Comput. Biol., 6:e1000892. \n",
    "* Melián CJ, Alonso D, Allesina S, Condit RS, and Etienne RS (2012) Does Sex Speed Up Evolutionary Rate and Increase Biodiversity?. PLOS Comput. Biol., 8:e1002414.\n",
    "* Melián, CJ, Seehausen, O, Eguíluz, VM, Fortuna, MA, and Deiner K (2015). Diversification and biodiversity dynamics of hot and cold spots. Ecography, 38:393-401.\n",
    "\n",
    "   \n",
    "    \n",
    "<font size=\"2\">      \n",
    "##### How would the next unifying diversification and biodiversity theory look like?\n",
    "\n",
    "    \n",
    " \n",
    "  "
   ]
  },
  {
   "cell_type": "markdown",
   "metadata": {
    "slideshow": {
     "slide_type": "slide"
    }
   },
   "source": [
    "# What is a species? \n",
    "\n"
   ]
  },
  {
   "cell_type": "markdown",
   "metadata": {
    "slideshow": {
     "slide_type": "subslide"
    }
   },
   "source": [
    "### Species boundaries\n",
    "\n",
    "![title](figures/ikeko.gif)"
   ]
  },
  {
   "cell_type": "code",
   "execution_count": null,
   "metadata": {
    "slideshow": {
     "slide_type": "subslide"
    }
   },
   "outputs": [],
   "source": [
    "## Snow ball effect and the evolution of genetic incompatibilities\n",
    "\n"
   ]
  },
  {
   "cell_type": "markdown",
   "metadata": {
    "slideshow": {
     "slide_type": "subslide"
    }
   },
   "source": [
    " <script src='https://cdnjs.cloudflare.com/ajax/libs/mathjax/2.7.5/latest.js?config=TeX-AMS_HTML'></script>\n",
    " ### Given population size, $\\mathcal{J}$, genome size, $\\mathcal{L}$, and mutation rate, $\\mu$\n",
    "\n",
    "\n",
    "<img src=\"figures/DNAsequence.png\" alt=\"drawing\" width=\"800\"/>\n",
    "\n"
   ]
  },
  {
   "cell_type": "markdown",
   "metadata": {
    "slideshow": {
     "slide_type": "subslide"
    }
   },
   "source": [
    "<script src='https://cdnjs.cloudflare.com/ajax/libs/mathjax/2.7.5/latest.js?config=TeX-AMS_HTML'></script>\n",
    "### Genomes in a mating graph  $\\mathcal{Q}$ = $[q_{ij}]$ for all $q_{ij} > \\mathcal{Q}_{min}$\n",
    "\n",
    "<img src=\"figures/DNAsequence1.png\" alt=\"drawing\" height=\"1200\" width=\"1200\"/>"
   ]
  },
  {
   "cell_type": "markdown",
   "metadata": {
    "slideshow": {
     "slide_type": "subslide"
    }
   },
   "source": [
    "\n",
    "<img src=\"figures/Stage1.png\" alt=\"drawing\" width=\"500\"/>"
   ]
  },
  {
   "cell_type": "markdown",
   "metadata": {
    "slideshow": {
     "slide_type": "subslide"
    }
   },
   "source": [
    "\n",
    "<img src=\"figures/Stage2.png\" alt=\"drawing\" width=\"500\"/>"
   ]
  },
  {
   "cell_type": "markdown",
   "metadata": {
    "slideshow": {
     "slide_type": "subslide"
    }
   },
   "source": [
    "\n",
    "<img src=\"figures/Stage3.png\" alt=\"drawing\" width=\"500\"/>"
   ]
  },
  {
   "cell_type": "markdown",
   "metadata": {
    "slideshow": {
     "slide_type": "subslide"
    }
   },
   "source": [
    "\n",
    "<img src=\"figures/Stage4.png\" alt=\"drawing\" width=\"500\"/>"
   ]
  },
  {
   "cell_type": "code",
   "execution_count": null,
   "metadata": {
    "slideshow": {
     "slide_type": "skip"
    }
   },
   "outputs": [],
   "source": [
    " // https://github.com/jupyter/nbconvert/issues/%%% 925 //"
   ]
  },
  {
   "cell_type": "markdown",
   "metadata": {
    "slideshow": {
     "slide_type": "subslide"
    }
   },
   "source": [
    " <script src='https://cdnjs.cloudflare.com/ajax/libs/mathjax/2.7.5/latest.js?config=TeX-AMS_HTML'></script>\n",
    " \n",
    " \n",
    " Given $\\Large \\mathcal{J}$, $\\Large \\mu$ and $\\Large \\mathcal{Q}_{min} > Q^{*}$ $\\rightarrow$ $\\Large Q^{*}$ = $\\Large \\frac{1}{4J\\mu + 1}$\n",
    " \n",
    " \n",
    " Given $\\Large \\mathcal{J}$, $\\Large \\mu$ and $\\Large \\mathcal{Q}_{min} < Q^{*}$ $\\rightarrow$ Clusters \n"
   ]
  },
  {
   "cell_type": "code",
   "execution_count": null,
   "metadata": {
    "slideshow": {
     "slide_type": "subslide"
    }
   },
   "outputs": [],
   "source": [
    "Higgs Derrida statistical physics"
   ]
  },
  {
   "cell_type": "markdown",
   "metadata": {
    "slideshow": {
     "slide_type": "slide"
    }
   },
   "source": [
    "# Does diversification increase in the tropics? "
   ]
  },
  {
   "cell_type": "markdown",
   "metadata": {
    "slideshow": {
     "slide_type": "subslide"
    }
   },
   "source": [
    "\n",
    "<img src=\"figures/global.pdf.png-1.png\" alt=\"drawing\" width=\"900\"/>"
   ]
  },
  {
   "cell_type": "markdown",
   "metadata": {
    "slideshow": {
     "slide_type": "subslide"
    }
   },
   "source": [
    "### The Late Cretaceous dinosaur latitudinal biodiversity gradient (LBG)\n",
    "\n",
    "<img src=\"figures/1-s2.0-S0169534713002358-gr3.jpg\" alt=\"drawing\" width=\"900\"/>\n"
   ]
  },
  {
   "cell_type": "code",
   "execution_count": 17,
   "metadata": {
    "slideshow": {
     "slide_type": "subslide"
    }
   },
   "outputs": [
    {
     "data": {
      "text/html": [
       "<video src=\"figures/animation/SmithPaleogeo_1d_138Ma-1Ma.mp4\" controls  >\n",
       "      Your browser does not support the <code>video</code> element.\n",
       "    </video>"
      ],
      "text/plain": [
       "<IPython.core.display.Video object>"
      ]
     },
     "execution_count": 17,
     "metadata": {},
     "output_type": "execute_result"
    }
   ],
   "source": [
    "from IPython.display import Video\n",
    "Video('figures/animation/SmithPaleogeo_1d_138Ma-1Ma.mp4')"
   ]
  },
  {
   "cell_type": "code",
   "execution_count": 21,
   "metadata": {
    "slideshow": {
     "slide_type": "subslide"
    }
   },
   "outputs": [
    {
     "data": {
      "text/html": [
       "<video src=\"figures/animation/1254421.mp4\" controls  width=\"248\"  height=\"248\">\n",
       "      Your browser does not support the <code>video</code> element.\n",
       "    </video>"
      ],
      "text/plain": [
       "<IPython.core.display.Video object>"
      ]
     },
     "execution_count": 21,
     "metadata": {},
     "output_type": "execute_result"
    }
   ],
   "source": [
    "from IPython.display import Video\n",
    "Video('figures/animation/1254421.mp4', width=248,height=248)"
   ]
  },
  {
   "cell_type": "markdown",
   "metadata": {
    "slideshow": {
     "slide_type": "subslide"
    }
   },
   "source": [
    "\n",
    "<img src=\"figures/natcom.png\" alt=\"drawing\" width=\"700\"/>"
   ]
  },
  {
   "cell_type": "markdown",
   "metadata": {
    "slideshow": {
     "slide_type": "slide"
    }
   },
   "source": [
    "### Why are there some lineages with many species while others have just a few?\n",
    "##### LBG is gone in deep time. Environmental gradients, time and space might be external explanations for diversifying lineages.\n",
    " \n"
   ]
  },
  {
   "cell_type": "markdown",
   "metadata": {
    "slideshow": {
     "slide_type": "subslide"
    }
   },
   "source": [
    "<img src=\"figures/biogeographyradiations.png\" alt=\"drawing\" width=\"700\"/>"
   ]
  },
  {
   "cell_type": "code",
   "execution_count": 22,
   "metadata": {
    "slideshow": {
     "slide_type": "subslide"
    }
   },
   "outputs": [
    {
     "data": {
      "text/html": [
       "<video src=\"figures/animation/DeepAni.mp4\" controls  >\n",
       "      Your browser does not support the <code>video</code> element.\n",
       "    </video>"
      ],
      "text/plain": [
       "<IPython.core.display.Video object>"
      ]
     },
     "execution_count": 22,
     "metadata": {},
     "output_type": "execute_result"
    }
   ],
   "source": []
  },
  {
   "cell_type": "markdown",
   "metadata": {
    "slideshow": {
     "slide_type": "slide"
    }
   },
   "source": [
    "### How do diversification and coexistence connect each other in complex ecosystems?"
   ]
  },
  {
   "cell_type": "code",
   "execution_count": null,
   "metadata": {
    "slideshow": {
     "slide_type": "subslide"
    }
   },
   "outputs": [],
   "source": [
    "#### What if DNA, development, gene expression, behavior and sexual selection combine with external factors to produce a complex set of interacting layers challenging speciation events?"
   ]
  },
  {
   "cell_type": "code",
   "execution_count": null,
   "metadata": {
    "slideshow": {
     "slide_type": "subslide"
    }
   },
   "outputs": [],
   "source": [
    "from IPython.display import Video\n",
    "Video('figures/animation/DeepAni.mp4')"
   ]
  },
  {
   "cell_type": "code",
   "execution_count": 25,
   "metadata": {
    "slideshow": {
     "slide_type": "subslide"
    }
   },
   "outputs": [
    {
     "ename": "ModuleNotFoundError",
     "evalue": "No module named 'IPython.display.IFrame'; 'IPython.display' is not a package",
     "output_type": "error",
     "traceback": [
      "\u001b[0;31m---------------------------------------------------------------------------\u001b[0m",
      "\u001b[0;31mModuleNotFoundError\u001b[0m                       Traceback (most recent call last)",
      "\u001b[0;32m<ipython-input-25-7649df366a1f>\u001b[0m in \u001b[0;36m<module>\u001b[0;34m\u001b[0m\n\u001b[1;32m      1\u001b[0m \u001b[0;31m## UNIVERSAL\u001b[0m\u001b[0;34m\u001b[0m\u001b[0;34m\u001b[0m\u001b[0;34m\u001b[0m\u001b[0m\n\u001b[1;32m      2\u001b[0m \u001b[0;34m\u001b[0m\u001b[0m\n\u001b[0;32m----> 3\u001b[0;31m \u001b[0;32mfrom\u001b[0m \u001b[0mIPython\u001b[0m\u001b[0;34m.\u001b[0m\u001b[0mdisplay\u001b[0m\u001b[0;34m.\u001b[0m\u001b[0mIFrame\u001b[0m \u001b[0;32mimport\u001b[0m \u001b[0mHTML\u001b[0m\u001b[0;34m\u001b[0m\u001b[0;34m\u001b[0m\u001b[0m\n\u001b[0m\u001b[1;32m      4\u001b[0m \u001b[0;34m\u001b[0m\u001b[0m\n\u001b[1;32m      5\u001b[0m \u001b[0mHTML\u001b[0m\u001b[0;34m(\u001b[0m\u001b[0;34m'<iframe width=\"560\" height=\"315\" src=\"https://upload.wikimedia.org/wikipedia/commons/1/13/Avida_host-parasite_coevolution_web.ogv\" frameborder=\"0\" allowfullscreen></iframe>'\u001b[0m\u001b[0;34m)\u001b[0m\u001b[0;34m\u001b[0m\u001b[0;34m\u001b[0m\u001b[0m\n",
      "\u001b[0;31mModuleNotFoundError\u001b[0m: No module named 'IPython.display.IFrame'; 'IPython.display' is not a package"
     ]
    }
   ],
   "source": [
    "## UNIVERSAL\n",
    "\n",
    "from IPython.display.IFrame import HTML\n",
    "\n",
    "HTML('<iframe width=\"560\" height=\"315\" src=\"https://upload.wikimedia.org/wikipedia/commons/1/13/Avida_host-parasite_coevolution_web.ogv\" frameborder=\"0\" allowfullscreen></iframe>')\n",
    "\n",
    "#Title: Avida host-parasite coevolution web.ogv :: proxy genotype-phenotype map :: modularity vs integration\n",
    "#Author: Miguel A. Fortuna"
   ]
  },
  {
   "cell_type": "code",
   "execution_count": null,
   "metadata": {},
   "outputs": [],
   "source": []
  },
  {
   "cell_type": "markdown",
   "metadata": {
    "slideshow": {
     "slide_type": "slide"
    }
   },
   "source": [
    "### How would the next unifying diversification and biodiversity theory look like?  "
   ]
  },
  {
   "cell_type": "markdown",
   "metadata": {
    "slideshow": {
     "slide_type": "slide"
    }
   },
   "source": [
    "## Hypo: \n",
    "\n",
    "### The big 4 layers (the grand scheme of things) \n",
    "#### System Biology -- Genomics -- Phenome -- Environments and Biogeography \n",
    "##### Universal? Bottom up?Top down? Independent? Hybrids? Fluctuating?\n",
    "\n",
    "<div>\n",
    "<img src=\"figures/Cas.pdf.png-1.png\" alt=\"drawing\" width=\"2000\"/>\n",
    "</div>\n"
   ]
  },
  {
   "cell_type": "code",
   "execution_count": null,
   "metadata": {},
   "outputs": [],
   "source": []
  },
  {
   "cell_type": "markdown",
   "metadata": {
    "slideshow": {
     "slide_type": "subslide"
    }
   },
   "source": [
    "\n",
    "###  How many layers?\n",
    "\n",
    "#### The dream robot\n",
    "   \n",
    "* Sampling: rarefaction oky\n",
    "* Models: model building strategy oky\n",
    "* Species: species boundary oky\n",
    "* Hypo: Universal level oky\n",
    "* RESPONSE -- UNIVERSAL EXPLAINS YOUR DATA oky dokky!\n",
    "-----------------------------------------------------------------  \n",
    "* Sampling? ## register jupyter\n",
    "* Model building strategy? ## register levix\n",
    "* Species boundaries? ## register mars\n",
    "* Hypo: Universal? Bottom up? Top down? Independent? Hybrids? Fluctuating? ##reg multiverse\n"
   ]
  },
  {
   "cell_type": "markdown",
   "metadata": {
    "slideshow": {
     "slide_type": "subslide"
    }
   },
   "source": [
    "# Model building strategy\n",
    "![title](figures/TradeOffs1.png)"
   ]
  },
  {
   "cell_type": "markdown",
   "metadata": {
    "slideshow": {
     "slide_type": "subslide"
    }
   },
   "source": [
    "# Model complexity reduction\n",
    "![title](figures/complex2.png)"
   ]
  },
  {
   "cell_type": "markdown",
   "metadata": {
    "slideshow": {
     "slide_type": "subslide"
    }
   },
   "source": [
    "# Species boundaries\n",
    "\n",
    "![title](figures/ikeko.gif)"
   ]
  },
  {
   "cell_type": "code",
   "execution_count": 1,
   "metadata": {
    "slideshow": {
     "slide_type": "subslide"
    }
   },
   "outputs": [
    {
     "name": "stderr",
     "output_type": "stream",
     "text": [
      "/home/melian/anaconda3/lib/python3.7/site-packages/IPython/core/display.py:689: UserWarning: Consider using IPython.display.IFrame instead\n",
      "  warnings.warn(\"Consider using IPython.display.IFrame instead\")\n"
     ]
    },
    {
     "data": {
      "text/html": [
       "<iframe width=\"560\" height=\"315\" src=\"https://upload.wikimedia.org/wikipedia/commons/1/13/Avida_host-parasite_coevolution_web.ogv\" frameborder=\"0\" allowfullscreen></iframe>"
      ],
      "text/plain": [
       "<IPython.core.display.HTML object>"
      ]
     },
     "execution_count": 1,
     "metadata": {},
     "output_type": "execute_result"
    }
   ],
   "source": [
    "## UNIVERSAL\n",
    "\n",
    "from IPython.display import HTML\n",
    "\n",
    "HTML('<iframe width=\"560\" height=\"315\" src=\"https://upload.wikimedia.org/wikipedia/commons/1/13/Avida_host-parasite_coevolution_web.ogv\" frameborder=\"0\" allowfullscreen></iframe>')\n",
    "\n",
    "#Title: Avida host-parasite coevolution web.ogv :: proxy genotype-phenotype map :: modularity vs integration\n",
    "#Author: Miguel A. Fortuna\n"
   ]
  },
  {
   "cell_type": "markdown",
   "metadata": {
    "slideshow": {
     "slide_type": "slide"
    }
   },
   "source": [
    "## GAPS\n",
    "\n",
    "<img src=\"figures/in.pdf.png-1.png\" alt=\"drawing\" width=\"700\"/>"
   ]
  },
  {
   "cell_type": "markdown",
   "metadata": {
    "slideshow": {
     "slide_type": "slide"
    }
   },
   "source": [
    "### Models as a eco-evo multilayer network\n",
    "\n",
    "* pip install jupyter : system biology\n",
    "* pip install jupyter : genomics species\n",
    "* pip install jupyter : community ecology \n",
    "* pip install jupyter ; complex trait\n",
    "###### ------------------------------------------------------------------\n",
    "* Modularity ## register levix\n",
    "* Omnigenic ## register levix\n",
    "* Master trait ## register levix\n",
    "* Complex trait ## register levix"
   ]
  },
  {
   "cell_type": "markdown",
   "metadata": {
    "slideshow": {
     "slide_type": "subslide"
    }
   },
   "source": [
    "## System biology\n",
    "\n",
    "<img src=\"figures/IntegrationGradient.png\" alt=\"drawing\" width=\"800\"/>"
   ]
  },
  {
   "cell_type": "markdown",
   "metadata": {
    "slideshow": {
     "slide_type": "subslide"
    }
   },
   "source": [
    "## Genomics\n",
    "\n",
    "<img src=\"figures/Omnigenic.png\" alt=\"drawing\" width=\"800\"/>"
   ]
  },
  {
   "cell_type": "markdown",
   "metadata": {
    "slideshow": {
     "slide_type": "subslide"
    }
   },
   "source": [
    "## Community Ecology\n",
    "\n",
    "<img src=\"figures/Ecology.png\" alt=\"drawing\" width=\"400\"/>"
   ]
  },
  {
   "cell_type": "markdown",
   "metadata": {
    "slideshow": {
     "slide_type": "subslide"
    }
   },
   "source": [
    "## Complex trait\n",
    "\n",
    "<img src=\"figures/Sticklebacks.pdf.png-1.png\" alt=\"drawing\" heigth =\"700\" width=\"700\"/>"
   ]
  },
  {
   "cell_type": "markdown",
   "metadata": {
    "slideshow": {
     "slide_type": "subslide"
    }
   },
   "source": [
    "#### Visualization eco-evo multilayer\n",
    "<img src=\"figures/evo1v2.pdf.png-1.png\" alt=\"drawing\" heigth =\"700\" width=\"700\"/>"
   ]
  },
  {
   "cell_type": "markdown",
   "metadata": {
    "slideshow": {
     "slide_type": "subslide"
    }
   },
   "source": [
    "<img src=\"figures/TD.pdf.png-1.png\" alt=\"drawing\" heigth =\"700\" width=\"700\"/>"
   ]
  },
  {
   "cell_type": "markdown",
   "metadata": {
    "slideshow": {
     "slide_type": "subslide"
    }
   },
   "source": [
    "... and the interaction rate between prey $x$ with trait value $z_{x}^{t}$ and \n",
    "    predator $y$ with trait value $z_{y}^{t}$ in patch $i$ is \n",
    "\n",
    "$$\\hspace{-3.75 in} \\gamma^{t}_{ixy} =  \\frac{1}{N} \\left( exp \\left[ -\\left(z^{t}_{y} - z^{t}_{x}\\right)^2 \\right] + 2\\alpha \\left[sgn(z^{t}_{y} - z^{t}_{x}) \\left(1 - exp \\left(-z^{t}_{y} - z^{t}_{x}\\right)^2 \\right) \\\\ + sgn(\\alpha) \\right] \\right)\n",
    "$$\n",
    "where $N$ is a normalization constant, $sgn(X)$ is the sign function\n",
    "and $\\alpha$ is the prey preference asymmetry... and the interaction\n",
    "strength between prey $x$ for a specific intraspecific niche width\n",
    "($ianw$) of the predator $y$ in patch $i$ at time $t$ can then be\n",
    "  $$a^{t}_{ixy} = \\int_{ianw} \\gamma^{t}_{ixy} D(x)^{t} D(y)^{t} \\mathrm{d}x \\mathrm{d}y$$,\n",
    "where $D(x)$ and $D(y)$ are the density of the prey and predator in patch $i$,\n",
    "respectively."
   ]
  },
  {
   "cell_type": "markdown",
   "metadata": {
    "slideshow": {
     "slide_type": "subslide"
    }
   },
   "source": [
    "<img src=\"figures/TDIS.pdf.png-1.png\" alt=\"drawing\" heigth =\"700\" width=\"700\"/>"
   ]
  },
  {
   "cell_type": "markdown",
   "metadata": {
    "slideshow": {
     "slide_type": "slide"
    }
   },
   "source": [
    "## Species\n",
    "-------------------------------------------\n",
    "<code>&nbsp;</code>\n",
    "\n",
    "$$$ pip install jupyter : biogeography\n",
    "$------------------------------------------------------------------\n",
    "> BAM! ## register levix$$"
   ]
  },
  {
   "cell_type": "markdown",
   "metadata": {
    "slideshow": {
     "slide_type": "subslide"
    }
   },
   "source": [
    "# Biogeography\n",
    "\n",
    "<img src=\"figures/EltoGriHutNiche.png\" alt=\"drawing\" width=\"600\"/>"
   ]
  },
  {
   "cell_type": "markdown",
   "metadata": {
    "collapsed": true,
    "slideshow": {
     "slide_type": "subslide"
    }
   },
   "source": [
    "![title](figures/BAMc.png)\n",
    "\n",
    "\n",
    "![title](figures/BAM.png)\n",
    "\n"
   ]
  },
  {
   "cell_type": "markdown",
   "metadata": {
    "slideshow": {
     "slide_type": "subslide"
    }
   },
   "source": [
    "<img src=\"figures/correlationtraits.png\" alt=\"drawing\" width=\"700\"/>"
   ]
  },
  {
   "cell_type": "markdown",
   "metadata": {
    "slideshow": {
     "slide_type": "subslide"
    }
   },
   "source": [
    "![title](figures/BAMc.png)\n",
    "\n",
    "<font size=\"2\">\n",
    "    \n",
    "${\\bf \\Omega_{BAM}}$ = \n",
    "$\\begin{bmatrix} \n",
    "V_B & C_{BA} & C_{BM} \\\\ \n",
    "C_{AB} & V_A & C_{AM} \\\\ \n",
    "C_{MB} & C_{MA} & V_M  \n",
    "\\end{bmatrix}$\n",
    "\n",
    "$\\mathbf{W}({\\bf z})^{t}_{ix} = exp[-\\gamma({\\color{red}[{\\bf z}^{t}_{ix} - {\\bf \\theta^{t}}_{ix}\\color{red}]^T} {\\bf \\Omega_{BAM}}^{-1} {\\color{red}[{\\bf z}^{t}_{ix} - {\\bf \\theta^{t}}_{ix}\\color{red}]})]$\n",
    "\n",
    "\n",
    "$\\underbrace{\\begin{bmatrix}\n",
    " W({\\bf z_{B}}^{t}_{ix})     \\\\\n",
    " W({\\bf z_{A}}^{t}_{ix})     \\\\\n",
    " \\vdots  \\\\\n",
    " W({\\bf z_{M}}^{t}_{ix})     \\\\\n",
    "            \\end{bmatrix}\n",
    "          }_{\\mathbf{W}}$\n",
    "           = $\\underbrace{\\begin{bmatrix}\n",
    " W({B}^{t}_{ix})^{*}     \\\\\n",
    " W({A}^{t}_{ix})^{*}     \\\\\n",
    " \\vdots  \\\\\n",
    " W({M}^{t}_{ix})^{*}     \\\\\n",
    "            \\end{bmatrix}^{T}\n",
    "             }_{\\mathbf{W}}$\n",
    "$\\underbrace{\\begin{bmatrix}\n",
    "V_{B}       &   C_{BA}       & \\dots     &   C_{BM}       \\\\\n",
    "C_{AB}       &   V_{A}       & \\dots     &   C_{AM}       \\\\\n",
    "\\vdots  &  \\vdots   &   \\vdots  &   \\vdots  \\\\   \n",
    "C_{MB}       &   C_{MA}      & \\dots     &   V_{M}       \\\\\n",
    "            \\end{bmatrix}^{-1}\n",
    "            }_{\\mathbf{\\Omega_{BAM}}}$\n",
    "$\\underbrace{\\begin{bmatrix}\n",
    "W({B}^{t}_{ix})^{*}     \\\\\n",
    "W({A}^{t}_{ix})^{*}     \\\\\n",
    "\\vdots  \\\\\n",
    "W({M}^{t}_{ix})^{*}     \\\\\n",
    "            \\end{bmatrix}\n",
    "             }_{\\mathbf{W}}$\n",
    "\n",
    "\n"
   ]
  },
  {
   "cell_type": "markdown",
   "metadata": {
    "slideshow": {
     "slide_type": "subslide"
    }
   },
   "source": [
    "<img src=\"figures/Heatmap.pdf.png-1.png\" alt=\"drawing\" width=\"900\"/>"
   ]
  },
  {
   "cell_type": "markdown",
   "metadata": {
    "slideshow": {
     "slide_type": "slide"
    }
   },
   "source": [
    "<img src=\"figures/demography.pdf.png-1.png\" alt=\"drawing\" width=\"700\"/>\n"
   ]
  },
  {
   "cell_type": "markdown",
   "metadata": {
    "slideshow": {
     "slide_type": "slide"
    }
   },
   "source": [
    "#### Take home message\n",
    "\n",
    "### Mensaje para llevar a casa  ---  Levar mensagem para casa\n",
    "###  How many layers? Quantas camadas? Cuantas capas?\n",
    "## The real robot\n",
    "\n",
    "----------------------------------------------------------------------    \n",
    "* pip install jupyter :: 1. sampling 2. models 3. species 4. hypo\n",
    "* rarefaction \n",
    "* model building strategy \n",
    "* species boundary \n",
    "* Hypo: Universal? Bottom up? Independent? Hybrids? Fluctuating? \n",
    "    \n",
    "------------------------------------------------------------------\n",
    "* #### RESPONSE 1 Strong bias in samplings observed in rarefaction curves \n",
    "* #### RESPONSE 2 Multilayer network along a complexity gradient\n",
    "* #### RESPONSE 3 No species boundary found -- infinite variance observed\n",
    "* #### RESPONSE 4 Combination of hypothesis"
   ]
  }
 ],
 "metadata": {
  "@webio": {
   "lastCommId": null,
   "lastKernelId": null
  },
  "celltoolbar": "Slideshow",
  "kernelspec": {
   "display_name": "Python 3 (ipykernel)",
   "language": "python",
   "name": "python3"
  },
  "language_info": {
   "codemirror_mode": {
    "name": "ipython",
    "version": 3
   },
   "file_extension": ".py",
   "mimetype": "text/x-python",
   "name": "python",
   "nbconvert_exporter": "python",
   "pygments_lexer": "ipython3",
   "version": "3.8.8"
  }
 },
 "nbformat": 4,
 "nbformat_minor": 2
}
