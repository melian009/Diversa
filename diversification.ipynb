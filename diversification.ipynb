{
 "cells": [
  {
   "cell_type": "markdown",
   "metadata": {
    "slideshow": {
     "slide_type": "slide"
    }
   },
   "source": [
    "<font size=\"5\">\n",
    "\n",
    "### Eco-evolutionary dynamics on networks: From diversification to coexistence in complex ecosystems\n",
    "<font size=\"3\">\n",
    "    \n",
    "--------------------------------------------------------\n",
    "Carlos J. Melián, IFISC, Mallorca, June 15, 2022\n",
    "### https://github.com/melian009/Diversa.git\n",
    "--------------------------------------------------------\n"
   ]
  },
  {
   "cell_type": "markdown",
   "metadata": {
    "slideshow": {
     "slide_type": "subslide"
    }
   },
   "source": [
    "# Outline\n",
    "\n",
    "# What is a species? \n",
    "## Does diversification increase in the tropics?\n",
    "### Why are there some lineages with many species while others have just a few?\n",
    "#### How do diversification and coexistence connect each other in complex ecosystems?\n",
    "##### How would the next unifying diversification and biodiversity theory look like?"
   ]
  },
  {
   "cell_type": "markdown",
   "metadata": {
    "slideshow": {
     "slide_type": "subslide"
    }
   },
   "source": [
    "<img src=\"figures/collaborators.png\" alt=\"drawing\" width=\"600\"/>"
   ]
  },
  {
   "cell_type": "markdown",
   "metadata": {
    "slideshow": {
     "slide_type": "subslide"
    }
   },
   "source": [
    "### References \n",
    "\n",
    "#### What is a species?\n",
    "* Mayr, E. (1942). Systematics and the origin of species from the viewpoint of a zoologist. New York: Columbia University Press.\n",
    "* Higgs PG, Derrida B (1992) Genetic distance and species formation in evolving populations. J. Mol. Evol., 35:454–465."
   ]
  },
  {
   "cell_type": "markdown",
   "metadata": {
    "slideshow": {
     "slide_type": "subslide"
    }
   },
   "source": [
    "### References\n",
    "\n",
    "#### Do the tropics produce more species?\n",
    "* Brown, J. (2014). Why are there so many species in the tropics? J. of Biogeography, 41:8-22  \n",
    "* Mannion, P. D., et al (2014). The latitudinal biodiversity gradient through deep time. TREE, 29:42-50.\n",
    "* Leprieur, F. et al. (2016). Plate tectonics drive tropical reef biodiversity dynamics. Nature Communications, 7:1-8       "
   ]
  },
  {
   "cell_type": "markdown",
   "metadata": {
    "slideshow": {
     "slide_type": "subslide"
    }
   },
   "source": [
    "### References \n",
    "\n",
    "#### Why are there some lineages with many species while others have just a few?\n",
    "* Davies, TJ, Allen, AP, Borda‐de‐Água, L, Regetz, J, and Melián CJ (2011). Neutral biodiversity theory can explain the imbalance of phylogenetic trees but not the tempo of their diversification. Evolution 65:1841-1850.\n",
    "* Wagner, C. E. (2012). Ecological opportunity and sexual selection together predict adaptive radiation. Nature, 487:366-369.    \n"
   ]
  },
  {
   "cell_type": "markdown",
   "metadata": {
    "slideshow": {
     "slide_type": "subslide"
    }
   },
   "source": [
    "### References\n",
    "\n",
    "#### How do diversification and coexistence connect each other in complex ecosystems?\n",
    "* Brown, W. L. Jr. (1957). Centrifugal Speciation. The Quarterly Review of Biology, 32:247-277.\n",
    "* Melián CJ, Alonso D, Vázquez DP, Regetz J, and Allesina S (2010) Frequency-Dependent Selection Predicts Patterns of Radiations and Biodiversity. PLOS Comput. Biol., 6:e1000892. \n",
    "* Melián CJ, Alonso D, Allesina S, Condit RS, and Etienne RS (2012) Does Sex Speed Up Evolutionary Rate and Increase Biodiversity?. PLOS Comput. Biol., 8:e1002414.\n",
    "* Melián CJ, Seehausen O, Eguíluz VM, Fortuna MA, and Deiner K (2015). Diversification and biodiversity dynamics of hot and cold spots. Ecography, 38:393-401. \n",
    "* Encinas, F, Etienne R, and Melián CJ (2022). Eco-evolutionary diversification of trait convergence and complementarity in\n",
    "mutualistic networks (In preparation) "
   ]
  },
  {
   "cell_type": "markdown",
   "metadata": {
    "slideshow": {
     "slide_type": "subslide"
    }
   },
   "source": [
    "### References \n",
    "\n",
    "#### How would the next unifying diversification and biodiversity theory look like?\n",
    "* Marques, DA, Meier, JI and Seehausen O. (2019). A combinatorial view on speciation and adaptive radiation. Trends in ecology and evolution 34:531-544    "
   ]
  },
  {
   "cell_type": "code",
   "execution_count": 4,
   "metadata": {
    "slideshow": {
     "slide_type": "skip"
    }
   },
   "outputs": [
    {
     "data": {
      "text/html": [
       "<style>.container { width:100% !important; }</style>"
      ],
      "text/plain": [
       "<IPython.core.display.HTML object>"
      ]
     },
     "metadata": {},
     "output_type": "display_data"
    }
   ],
   "source": [
    "from IPython.core.display import display, HTML\n",
    "display(HTML(\"<style>.container { width:100% !important; }</style>\"))"
   ]
  },
  {
   "cell_type": "markdown",
   "metadata": {
    "slideshow": {
     "slide_type": "slide"
    }
   },
   "source": [
    "\n",
    "\n",
    "# What is a species? \n",
    "\n"
   ]
  },
  {
   "cell_type": "markdown",
   "metadata": {
    "slideshow": {
     "slide_type": "subslide"
    }
   },
   "source": [
    "### Species boundaries\n",
    "\n",
    "![title](figures/ikeko.gif)"
   ]
  },
  {
   "cell_type": "markdown",
   "metadata": {
    "slideshow": {
     "slide_type": "subslide"
    }
   },
   "source": [
    " <script src='https://cdnjs.cloudflare.com/ajax/libs/mathjax/2.7.5/latest.js?config=TeX-AMS_HTML'></script>\n",
    " ### Given population size, $\\mathcal{J}$, genome size, $\\mathcal{L}$, and mutation rate, $\\mu$\n",
    "\n",
    "\n",
    "<img src=\"figures/DNAsequence.png\" alt=\"drawing\" width=\"800\"/>\n",
    "\n"
   ]
  },
  {
   "cell_type": "markdown",
   "metadata": {
    "slideshow": {
     "slide_type": "subslide"
    }
   },
   "source": [
    "<script src='https://cdnjs.cloudflare.com/ajax/libs/mathjax/2.7.5/latest.js?config=TeX-AMS_HTML'></script>\n",
    "### Genomes in a mating graph  $\\mathcal{Q}$ = $[q_{ij}]$ for all $q_{ij} > \\mathcal{Q}_{min}$\n",
    "\n",
    "<img src=\"figures/DNAsequence1.png\" alt=\"drawing\" height=\"1200\" width=\"1200\"/>"
   ]
  },
  {
   "cell_type": "markdown",
   "metadata": {
    "slideshow": {
     "slide_type": "subslide"
    }
   },
   "source": [
    "\n",
    "<img src=\"figures/Stage1.png\" alt=\"drawing\" width=\"500\"/>"
   ]
  },
  {
   "cell_type": "markdown",
   "metadata": {
    "slideshow": {
     "slide_type": "subslide"
    }
   },
   "source": [
    "\n",
    "<img src=\"figures/Stage2.png\" alt=\"drawing\" width=\"500\"/>"
   ]
  },
  {
   "cell_type": "markdown",
   "metadata": {
    "slideshow": {
     "slide_type": "subslide"
    }
   },
   "source": [
    "\n",
    "<img src=\"figures/Stage3.png\" alt=\"drawing\" width=\"500\"/>"
   ]
  },
  {
   "cell_type": "markdown",
   "metadata": {
    "slideshow": {
     "slide_type": "subslide"
    }
   },
   "source": [
    "\n",
    "<img src=\"figures/Stage4.png\" alt=\"drawing\" width=\"500\"/>"
   ]
  },
  {
   "cell_type": "code",
   "execution_count": null,
   "metadata": {
    "slideshow": {
     "slide_type": "skip"
    }
   },
   "outputs": [],
   "source": [
    " // https://github.com/jupyter/nbconvert/issues/%%% 925 //"
   ]
  },
  {
   "cell_type": "markdown",
   "metadata": {
    "slideshow": {
     "slide_type": "subslide"
    }
   },
   "source": [
    " <script src='https://cdnjs.cloudflare.com/ajax/libs/mathjax/2.7.5/latest.js?config=TeX-AMS_HTML'></script>\n",
    " \n",
    " \n",
    " Given $\\Large \\mathcal{J}$, $\\Large \\mu$ and $\\Large \\mathcal{Q}_{min} > Q^{*}$ $\\rightarrow$ $\\Large Q^{*}$ = $\\Large \\frac{1}{4J\\mu + 1}$\n",
    " \n",
    " \n",
    " Given $\\Large \\mathcal{J}$, $\\Large \\mu$ and $\\Large \\mathcal{Q}_{min} < Q^{*}$ $\\rightarrow$ Clusters \n"
   ]
  },
  {
   "cell_type": "markdown",
   "metadata": {
    "slideshow": {
     "slide_type": "subslide"
    }
   },
   "source": [
    "<img src=\"figures/mutation.png\" alt=\"drawing\" width=\"600\"/>"
   ]
  },
  {
   "cell_type": "markdown",
   "metadata": {
    "slideshow": {
     "slide_type": "subslide"
    }
   },
   "source": [
    " <script src='https://cdnjs.cloudflare.com/ajax/libs/mathjax/2.7.5/latest.js?config=TeX-AMS_HTML'></script>\n",
    " \n",
    " ... and the emergence of clusters have different rates\n",
    "\n",
    "Asexual reproduction: $\\rightarrow$ $n_{asex}^{\\ast}$ = $\\Large - \\frac{log (\\mathcal{Q}_{min})}{2\\mu}$\n",
    "\n",
    "Sexual reproduction: $\\rightarrow$ $n_{sex}^{\\ast}$ = $\\Large \\frac{log (\\mathcal{Q}_{min})}{-2\\mu +log \\left[ \\left(\\mathcal{Q}_{min}+3\\right) /4\\right]}$\n",
    "\n",
    "And $n_{asex}^{\\ast}$ $>$ $n_{sex}^{\\ast}$ in all cases,\n",
    "\n",
    "\n",
    "so $1/n_{sex}^{\\ast}$ ($\\nu_{sex}$) $>$ $1/n_{asex}^{\\ast}$ ($\\nu_{asex}$)"
   ]
  },
  {
   "cell_type": "markdown",
   "metadata": {
    "slideshow": {
     "slide_type": "slide"
    }
   },
   "source": [
    "# Does diversification increase in the tropics? "
   ]
  },
  {
   "cell_type": "markdown",
   "metadata": {
    "slideshow": {
     "slide_type": "subslide"
    }
   },
   "source": [
    "\n",
    "<img src=\"figures/global.pdf.png-1.png\" alt=\"drawing\" width=\"900\"/>"
   ]
  },
  {
   "cell_type": "markdown",
   "metadata": {
    "slideshow": {
     "slide_type": "subslide"
    }
   },
   "source": [
    "### The Late Cretaceous dinosaur latitudinal biodiversity gradient (LBG)\n",
    "\n",
    "<img src=\"figures/1-s2.0-S0169534713002358-gr3.jpg\" alt=\"drawing\" width=\"900\"/>\n"
   ]
  },
  {
   "cell_type": "code",
   "execution_count": 17,
   "metadata": {
    "slideshow": {
     "slide_type": "subslide"
    }
   },
   "outputs": [
    {
     "data": {
      "text/html": [
       "<video src=\"figures/animation/SmithPaleogeo_1d_138Ma-1Ma.mp4\" controls  >\n",
       "      Your browser does not support the <code>video</code> element.\n",
       "    </video>"
      ],
      "text/plain": [
       "<IPython.core.display.Video object>"
      ]
     },
     "execution_count": 17,
     "metadata": {},
     "output_type": "execute_result"
    }
   ],
   "source": [
    "from IPython.display import Video\n",
    "Video('figures/animation/SmithPaleogeo_1d_138Ma-1Ma.mp4')"
   ]
  },
  {
   "cell_type": "markdown",
   "metadata": {
    "slideshow": {
     "slide_type": "subslide"
    }
   },
   "source": [
    "##### A mechanistic model based only on habitat-driven diversification and dispersal (right) yields realistic predictions of current biodiversity patterns for corals (left).\n",
    "<img src=\"figures/natcom.png\" alt=\"drawing\" width=\"600\"/>"
   ]
  },
  {
   "cell_type": "markdown",
   "metadata": {
    "slideshow": {
     "slide_type": "slide"
    }
   },
   "source": [
    "### LBG is gone in deep time. Environmental gradients, time and space might be external explanations for diversifying lineages.\n",
    "\n",
    "# Why are there some lineages with many species while others have just a few?\n"
   ]
  },
  {
   "cell_type": "markdown",
   "metadata": {
    "slideshow": {
     "slide_type": "subslide"
    }
   },
   "source": [
    "<img src=\"figures/biogeographyradiations.png\" alt=\"drawing\" width=\"700\"/>"
   ]
  },
  {
   "cell_type": "markdown",
   "metadata": {
    "slideshow": {
     "slide_type": "slide"
    }
   },
   "source": [
    "#### What if DNA, development, gene expression, behavior and sexual selection combine with external factors to produce a complex set of interacting layers challenging speciation events?\n",
    "# How do diversification and coexistence connect each other in complex ecosystems?"
   ]
  },
  {
   "cell_type": "markdown",
   "metadata": {
    "slideshow": {
     "slide_type": "subslide"
    }
   },
   "source": [
    "                                           ### Experimental evolution\n",
    "<img src=\"figures/adaptiveradiation.png\" alt=\"drawing\" width=\"300\"/>"
   ]
  },
  {
   "cell_type": "markdown",
   "metadata": {
    "slideshow": {
     "slide_type": "subslide"
    }
   },
   "source": [
    " <script src='https://cdnjs.cloudflare.com/ajax/libs/mathjax/2.7.5/latest.js?config=TeX-AMS_HTML'></script>\n",
    "                                                     ### Hot spots \n",
    " \n",
    "# Genomes in the landscape (threshold, $\\mathcal{D}_{max}$); $D$ = $[d_{ij}]$ and $d_{ij}$ $\\leq$ $\\mathcal{D}_{max}$\n",
    "\n",
    "<img src=\"figures/Threshold2.png\" alt=\"drawing\" width=\"700\"/>\n"
   ]
  },
  {
   "cell_type": "markdown",
   "metadata": {
    "slideshow": {
     "slide_type": "subslide"
    }
   },
   "source": [
    " <script src='https://cdnjs.cloudflare.com/ajax/libs/mathjax/2.7.5/latest.js?config=TeX-AMS_HTML'></script>\n",
    "\n",
    "# Gene flow, ($\\mathcal{M}$)\n",
    "\n",
    "\n",
    "Symmetric gene flow\n",
    "\\begin{equation}\n",
    "m_{ij}^{k} = \\frac{\\mathcal{M}}{d_{ij}}\n",
    "\\end{equation}\n",
    "\n",
    "Centripetal gene flow\n",
    "\\begin{equation}\n",
    "m_{ij}^{k} = \\left\\{\n",
    "\\begin{array}{ll}\n",
    " \\frac{\\mathcal{M}}{d_{ij}} & \\text{if} \\;\\;\\sum_{l=1}^{\\mathcal{S}}{d_{il}}\\leq \\sum_{l=1}^{\\mathcal{S}} d_{jl} ,  \\\\\n",
    " 0 & \\text{if} \\;\\;\\sum_{l=1}^{\\mathcal{S}} d_{il} > \\sum_{l=1}^{\\mathcal{S}} d_{jl}\n",
    "  \\end{array}\n",
    " \\right.\n",
    "\\end{equation}\n",
    "\n",
    "Centrifugal gene flow\n",
    "\\begin{equation}\n",
    "m_{ij}^{k} = \\left\\{\n",
    "\\begin{array}{ll}\n",
    " \\frac{\\mathcal{M}}{d_{ij}} & \\text{if} \\;\\;\\sum_{l=1}^{\\mathcal{S}}{d_{il}}\\geq \\sum_{l=1}^{\\mathcal{S}} d_{jl} ,  \\\\\n",
    " 0 & \\text{if} \\;\\;\\sum_{l=1}^{\\mathcal{S}} d_{il} < \\sum_{l=1}^{\\mathcal{S}} d_{jl}\n",
    "  \\end{array}\n",
    " \\right.\n",
    "\\end{equation}\n"
   ]
  },
  {
   "cell_type": "markdown",
   "metadata": {
    "slideshow": {
     "slide_type": "subslide"
    }
   },
   "source": [
    "<script src='https://cdnjs.cloudflare.com/ajax/libs/mathjax/2.7.5/latest.js?config=TeX-AMS_HTML'></script>\n",
    "\n",
    "Given $\\mathcal{J}$, $\\mathcal{L}$, $\\mu$, $\\mathcal{Q}_{min}$, $\\mathcal{D}_{max}$, and $\\mathcal{M}$\n",
    "<img src=\"figures/fig2all.png\" alt=\"drawing\" width=\"500\"/> "
   ]
  },
  {
   "cell_type": "markdown",
   "metadata": {
    "slideshow": {
     "slide_type": "subslide"
    }
   },
   "source": [
    "                                     ### Diversification and convergence \n",
    "                    \n",
    "<img style=\"float: left;\" src=\"figures/CichlidsLeft.png\" alt=\"drawing\" width=\"200\"/>\n",
    "\n",
    "<img style=\"float: right;\" src=\"figures/CichlidsRight.png\" alt=\"drawing\" width=\"200\"/> "
   ]
  },
  {
   "cell_type": "markdown",
   "metadata": {
    "slideshow": {
     "slide_type": "subslide"
    }
   },
   "source": [
    "<img src=\"figures/IBModel6.png\" alt=\"drawing\" width=\"700\"/> \n"
   ]
  },
  {
   "cell_type": "markdown",
   "metadata": {
    "slideshow": {
     "slide_type": "subslide"
    }
   },
   "source": [
    "<img style=\"float: left;\" src=\"figures/hummingbirds.jpg\" alt=\"drawing\" width=\"200\"/> \n",
    "<img style=\"float: center;\" src=\"figures/QPmatrix.png\" alt=\"drawing\" width=\"400\"/>\n",
    "<img style=\"float: right;\" src=\"figures/comcon.png\" alt=\"drawing\" width=\"400\"/>"
   ]
  },
  {
   "cell_type": "markdown",
   "metadata": {
    "slideshow": {
     "slide_type": "slide"
    }
   },
   "source": [
    "# How would the next unifying diversification theory look like?  "
   ]
  },
  {
   "cell_type": "markdown",
   "metadata": {
    "slideshow": {
     "slide_type": "subslide"
    }
   },
   "source": [
    "\n",
    "<img src=\"figures/combinatorial.png\" alt=\"drawing\" width=\"600\"/> "
   ]
  },
  {
   "cell_type": "markdown",
   "metadata": {
    "slideshow": {
     "slide_type": "subslide"
    }
   },
   "source": [
    " \n",
    "### The big 4 layers\n",
    "#### System Biology -- Genomics -- Phenome -- Environments and Biogeography \n",
    "##### Universal? Bottom up?Top down? Independent? Hybrids? Fluctuating?\n",
    "\n",
    "<div>\n",
    "<img src=\"figures/Cas.pdf.png-1.png\" alt=\"drawing\" width=\"2500\"/>\n",
    "</div>\n"
   ]
  },
  {
   "cell_type": "markdown",
   "metadata": {
    "slideshow": {
     "slide_type": "slide"
    }
   },
   "source": [
    "## Take home message\n",
    "\n",
    "* Speciation is a complex process -- physical, chemical and biological processes drive the emergence of new genotypes and phenotypes along diversification stages\n",
    "\n",
    "* External and internal factors combine to produce heterogeneous diversification patterns in space and time. These combined with the intensity and directionality of gene flow might play a critical role to anticipate the radiation of a lineage and the formation of hot and cold spots in diversification\n",
    "\n",
    "* Toy models useful to understand main basic speciation processes -- yet, current data suggest systems biology, genomics, phenomes, and fluctuating environments all together are needed to connect micro to macro diversification ands biodiversity patterns "
   ]
  }
 ],
 "metadata": {
  "@webio": {
   "lastCommId": null,
   "lastKernelId": null
  },
  "celltoolbar": "Slideshow",
  "kernelspec": {
   "display_name": "Python 3",
   "language": "python",
   "name": "python3"
  },
  "language_info": {
   "codemirror_mode": {
    "name": "ipython",
    "version": 3
   },
   "file_extension": ".py",
   "mimetype": "text/x-python",
   "name": "python",
   "nbconvert_exporter": "python",
   "pygments_lexer": "ipython3",
   "version": "3.7.3"
  }
 },
 "nbformat": 4,
 "nbformat_minor": 2
}
