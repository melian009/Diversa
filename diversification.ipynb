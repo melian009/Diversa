{
 "cells": [
  {
   "cell_type": "markdown",
   "metadata": {
    "slideshow": {
     "slide_type": "slide"
    }
   },
   "source": [
    "<font size=\"5\">\n",
    "\n",
    "### Eco-evolutionary dynamics on networks: From diversification to coexistence in complex ecosystems\n",
    "<font size=\"3\">\n",
    "    \n",
    "--------------------------------------------------------\n",
    "Carlos J. Melián, Ifisc, Mallorca, June 15, 2022\n",
    "### https://github.com/melian009/Diversa.git\n",
    "--------------------------------------------------------\n"
   ]
  },
  {
   "cell_type": "markdown",
   "metadata": {
    "slideshow": {
     "slide_type": "subslide"
    }
   },
   "source": [
    "!jt -t oceans16 -tf merriserif -tfs 14 -nf ptsans -nfs 14\n",
    "\n",
    "# Outline\n",
    "\n",
    "# What is a species? \n",
    "## Does diversification increase in the tropics?\n",
    "### Why are there some lineages with many species while others have just a few?\n",
    "#### How do diversification and coexistence connect each other in complex ecosystems?\n",
    "##### How would the next unifying diversification and biodiversity theory look like?"
   ]
  },
  {
   "cell_type": "markdown",
   "metadata": {
    "slideshow": {
     "slide_type": "subslide"
    }
   },
   "source": [
    "<img src=\"figures/collaborators.png\" alt=\"drawing\" width=\"800\"/>"
   ]
  },
  {
   "cell_type": "markdown",
   "metadata": {
    "slideshow": {
     "slide_type": "subslide"
    }
   },
   "source": [
    "### References \n",
    "\n",
    "<font size=\"2\">\n",
    "##### What is a species?\n",
    "* Mayr, E. (1942). Systematics and the origin of species from the viewpoint of a zoologist. New York: Columbia University Press.\n",
    "* Higgs PG, Derrida B (1992) Genetic distance and species formation in evolving populations. J. Mol. Evol., 35:454–465.\n",
    "\n",
    "<font size=\"2\">\n",
    "##### Do the tropics produce more species?\n",
    "* Brown, J. (2014). Why are there so many species in the tropics? J. of Biogeography, 41:8-22  \n",
    "* Mannion, P. D., et al (2014). The latitudinal biodiversity gradient through deep time. TREE, 29:42-50.\n",
    "* Leprieur, F. et al. (2016). Plate tectonics drive tropical reef biodiversity dynamics. Nature Communications, 7:1-8   \n",
    "      \n",
    "<font size=\"2\">      \n",
    "##### Why are there some lineages with many species while others have just a few?\n",
    "* Davies, TJ, Allen, AP, Borda‐de‐Água, L, Regetz, J, and Melián CJ (2011). Neutral biodiversity theory can explain the imbalance of phylogenetic trees but not the tempo of their diversification. Evolution 65:1841-1850.\n",
    "* Wagner, C. E. (2012). Ecological opportunity and sexual selection together predict adaptive radiation. Nature, 487:366-369.    \n",
    "\n",
    "<font size=\"2\">\n",
    "##### How do diversification and coexistence connect each other in complex ecosystems?\n",
    "* Brown, W. L. Jr. (1957). Centrifugal Speciation. The Quarterly Review of Biology, 32:247-277.\n",
    "* Melián CJ, Alonso D, Vázquez DP, Regetz J, and Allesina S (2010) Frequency-Dependent Selection Predicts Patterns of Radiations and Biodiversity. PLOS Comput. Biol., 6:e1000892. \n",
    "* Melián CJ, Alonso D, Allesina S, Condit RS, and Etienne RS (2012) Does Sex Speed Up Evolutionary Rate and Increase Biodiversity?. PLOS Comput. Biol., 8:e1002414.\n",
    "* Melián, CJ, Seehausen, O, Eguíluz, VM, Fortuna, MA, and Deiner K (2015). Diversification and biodiversity dynamics of hot and cold spots. Ecography, 38:393-401.\n",
    "    \n",
    "<font size=\"2\">      \n",
    "##### How would the next unifying diversification and biodiversity theory look like?\n",
    "\n",
    "    \n",
    " \n",
    "  "
   ]
  },
  {
   "cell_type": "code",
   "execution_count": 4,
   "metadata": {
    "slideshow": {
     "slide_type": "skip"
    }
   },
   "outputs": [
    {
     "data": {
      "text/html": [
       "<style>.container { width:100% !important; }</style>"
      ],
      "text/plain": [
       "<IPython.core.display.HTML object>"
      ]
     },
     "metadata": {},
     "output_type": "display_data"
    }
   ],
   "source": [
    "from IPython.core.display import display, HTML\n",
    "display(HTML(\"<style>.container { width:100% !important; }</style>\"))"
   ]
  },
  {
   "cell_type": "markdown",
   "metadata": {
    "slideshow": {
     "slide_type": "slide"
    }
   },
   "source": [
    "\n",
    "\n",
    "# What is a species? \n",
    "\n"
   ]
  },
  {
   "cell_type": "markdown",
   "metadata": {
    "slideshow": {
     "slide_type": "subslide"
    }
   },
   "source": [
    "### Species boundaries\n",
    "\n",
    "![title](figures/ikeko.gif)"
   ]
  },
  {
   "cell_type": "markdown",
   "metadata": {
    "slideshow": {
     "slide_type": "subslide"
    }
   },
   "source": [
    " <script src='https://cdnjs.cloudflare.com/ajax/libs/mathjax/2.7.5/latest.js?config=TeX-AMS_HTML'></script>\n",
    " ### Given population size, $\\mathcal{J}$, genome size, $\\mathcal{L}$, and mutation rate, $\\mu$\n",
    "\n",
    "\n",
    "<img src=\"figures/DNAsequence.png\" alt=\"drawing\" width=\"800\"/>\n",
    "\n"
   ]
  },
  {
   "cell_type": "markdown",
   "metadata": {
    "slideshow": {
     "slide_type": "subslide"
    }
   },
   "source": [
    "<script src='https://cdnjs.cloudflare.com/ajax/libs/mathjax/2.7.5/latest.js?config=TeX-AMS_HTML'></script>\n",
    "### Genomes in a mating graph  $\\mathcal{Q}$ = $[q_{ij}]$ for all $q_{ij} > \\mathcal{Q}_{min}$\n",
    "\n",
    "<img src=\"figures/DNAsequence1.png\" alt=\"drawing\" height=\"1200\" width=\"1200\"/>"
   ]
  },
  {
   "cell_type": "markdown",
   "metadata": {
    "slideshow": {
     "slide_type": "subslide"
    }
   },
   "source": [
    "\n",
    "<img src=\"figures/Stage1.png\" alt=\"drawing\" width=\"500\"/>"
   ]
  },
  {
   "cell_type": "markdown",
   "metadata": {
    "slideshow": {
     "slide_type": "subslide"
    }
   },
   "source": [
    "\n",
    "<img src=\"figures/Stage2.png\" alt=\"drawing\" width=\"500\"/>"
   ]
  },
  {
   "cell_type": "markdown",
   "metadata": {
    "slideshow": {
     "slide_type": "subslide"
    }
   },
   "source": [
    "\n",
    "<img src=\"figures/Stage3.png\" alt=\"drawing\" width=\"500\"/>"
   ]
  },
  {
   "cell_type": "markdown",
   "metadata": {
    "slideshow": {
     "slide_type": "subslide"
    }
   },
   "source": [
    "\n",
    "<img src=\"figures/Stage4.png\" alt=\"drawing\" width=\"500\"/>"
   ]
  },
  {
   "cell_type": "code",
   "execution_count": null,
   "metadata": {
    "slideshow": {
     "slide_type": "skip"
    }
   },
   "outputs": [],
   "source": [
    " // https://github.com/jupyter/nbconvert/issues/%%% 925 //"
   ]
  },
  {
   "cell_type": "markdown",
   "metadata": {
    "slideshow": {
     "slide_type": "subslide"
    }
   },
   "source": [
    " <script src='https://cdnjs.cloudflare.com/ajax/libs/mathjax/2.7.5/latest.js?config=TeX-AMS_HTML'></script>\n",
    " \n",
    " \n",
    " Given $\\Large \\mathcal{J}$, $\\Large \\mu$ and $\\Large \\mathcal{Q}_{min} > Q^{*}$ $\\rightarrow$ $\\Large Q^{*}$ = $\\Large \\frac{1}{4J\\mu + 1}$\n",
    " \n",
    " \n",
    " Given $\\Large \\mathcal{J}$, $\\Large \\mu$ and $\\Large \\mathcal{Q}_{min} < Q^{*}$ $\\rightarrow$ Clusters \n"
   ]
  },
  {
   "cell_type": "markdown",
   "metadata": {
    "slideshow": {
     "slide_type": "subslide"
    }
   },
   "source": [
    "<img src=\"figures/mutation.png\" alt=\"drawing\" width=\"600\"/>"
   ]
  },
  {
   "cell_type": "markdown",
   "metadata": {
    "slideshow": {
     "slide_type": "subslide"
    }
   },
   "source": [
    " <script src='https://cdnjs.cloudflare.com/ajax/libs/mathjax/2.7.5/latest.js?config=TeX-AMS_HTML'></script>\n",
    " \n",
    " ... and the emergence of clusters have different rates\n",
    "\n",
    "Asexual reproduction: $\\rightarrow$ $n_{asex}^{\\ast}$ = $\\Large - \\frac{log (\\mathcal{Q}_{min})}{2\\mu}$\n",
    "\n",
    "Sexual reproduction: $\\rightarrow$ $n_{sex}^{\\ast}$ = $\\Large \\frac{log (\\mathcal{Q}_{min})}{-2\\mu +log \\left[ \\left(\\mathcal{Q}_{min}+3\\right) /4\\right]}$\n",
    "\n",
    "And $n_{asex}^{\\ast}$ $>$ $n_{sex}^{\\ast}$ in all cases,\n",
    "\n",
    "\n",
    "so $1/n_{sex}^{\\ast}$ ($\\nu_{sex}$) $>$ $1/n_{asex}^{\\ast}$ ($\\nu_{asex}$)"
   ]
  },
  {
   "cell_type": "markdown",
   "metadata": {
    "slideshow": {
     "slide_type": "slide"
    }
   },
   "source": [
    "# Does diversification increase in the tropics? "
   ]
  },
  {
   "cell_type": "markdown",
   "metadata": {
    "slideshow": {
     "slide_type": "subslide"
    }
   },
   "source": [
    "\n",
    "<img src=\"figures/global.pdf.png-1.png\" alt=\"drawing\" width=\"900\"/>"
   ]
  },
  {
   "cell_type": "markdown",
   "metadata": {
    "slideshow": {
     "slide_type": "subslide"
    }
   },
   "source": [
    "### The Late Cretaceous dinosaur latitudinal biodiversity gradient (LBG)\n",
    "\n",
    "<img src=\"figures/1-s2.0-S0169534713002358-gr3.jpg\" alt=\"drawing\" width=\"900\"/>\n"
   ]
  },
  {
   "cell_type": "code",
   "execution_count": 17,
   "metadata": {
    "slideshow": {
     "slide_type": "subslide"
    }
   },
   "outputs": [
    {
     "data": {
      "text/html": [
       "<video src=\"figures/animation/SmithPaleogeo_1d_138Ma-1Ma.mp4\" controls  >\n",
       "      Your browser does not support the <code>video</code> element.\n",
       "    </video>"
      ],
      "text/plain": [
       "<IPython.core.display.Video object>"
      ]
     },
     "execution_count": 17,
     "metadata": {},
     "output_type": "execute_result"
    }
   ],
   "source": [
    "from IPython.display import Video\n",
    "Video('figures/animation/SmithPaleogeo_1d_138Ma-1Ma.mp4')"
   ]
  },
  {
   "cell_type": "code",
   "execution_count": 11,
   "metadata": {
    "slideshow": {
     "slide_type": "subslide"
    }
   },
   "outputs": [
    {
     "data": {
      "text/html": [
       "<video src=\"figures/animation/1254421.mp4\" controls  >\n",
       "      Your browser does not support the <code>video</code> element.\n",
       "    </video>"
      ],
      "text/plain": [
       "<IPython.core.display.Video object>"
      ]
     },
     "execution_count": 11,
     "metadata": {},
     "output_type": "execute_result"
    }
   ],
   "source": [
    "from IPython.display import Video\n",
    "Video('figures/animation/1254421.mp4')"
   ]
  },
  {
   "cell_type": "markdown",
   "metadata": {
    "slideshow": {
     "slide_type": "subslide"
    }
   },
   "source": [
    "\n",
    "<img src=\"figures/natcom.png\" alt=\"drawing\" width=\"700\"/>"
   ]
  },
  {
   "cell_type": "markdown",
   "metadata": {
    "slideshow": {
     "slide_type": "slide"
    }
   },
   "source": [
    "# Why are there some lineages with many species while others have just a few?\n",
    "### LBG is gone in deep time. Environmental gradients, time and space might be external explanations for diversifying lineages.\n",
    " \n"
   ]
  },
  {
   "cell_type": "markdown",
   "metadata": {
    "slideshow": {
     "slide_type": "subslide"
    }
   },
   "source": [
    "<img src=\"figures/biogeographyradiations.png\" alt=\"drawing\" width=\"700\"/>"
   ]
  },
  {
   "cell_type": "markdown",
   "metadata": {
    "slideshow": {
     "slide_type": "slide"
    }
   },
   "source": [
    "# How do diversification and coexistence connect each other in complex ecosystems?"
   ]
  },
  {
   "cell_type": "code",
   "execution_count": null,
   "metadata": {
    "slideshow": {
     "slide_type": "subslide"
    }
   },
   "outputs": [],
   "source": [
    "#### What if DNA, development, gene expression, behavior and sexual selection combine with external factors to produce a complex set of interacting layers challenging speciation events?"
   ]
  },
  {
   "cell_type": "markdown",
   "metadata": {
    "slideshow": {
     "slide_type": "subslide"
    }
   },
   "source": [
    "# Experimental evolution\n",
    "<img src=\"figures/adaptiveradiation.png\" alt=\"drawing\" width=\"300\"/>"
   ]
  },
  {
   "cell_type": "code",
   "execution_count": 26,
   "metadata": {
    "slideshow": {
     "slide_type": "subslide"
    }
   },
   "outputs": [
    {
     "data": {
      "text/html": [
       "<video src=\"figures/animation/DeepAni.mp4\" controls  >\n",
       "      Your browser does not support the <code>video</code> element.\n",
       "    </video>"
      ],
      "text/plain": [
       "<IPython.core.display.Video object>"
      ]
     },
     "execution_count": 26,
     "metadata": {},
     "output_type": "execute_result"
    }
   ],
   "source": [
    "from IPython.display import Video\n",
    "Video('figures/animation/DeepAni.mp4')"
   ]
  },
  {
   "cell_type": "code",
   "execution_count": 25,
   "metadata": {
    "slideshow": {
     "slide_type": "subslide"
    }
   },
   "outputs": [
    {
     "ename": "ModuleNotFoundError",
     "evalue": "No module named 'IPython.display.IFrame'; 'IPython.display' is not a package",
     "output_type": "error",
     "traceback": [
      "\u001b[0;31m---------------------------------------------------------------------------\u001b[0m",
      "\u001b[0;31mModuleNotFoundError\u001b[0m                       Traceback (most recent call last)",
      "\u001b[0;32m<ipython-input-25-7649df366a1f>\u001b[0m in \u001b[0;36m<module>\u001b[0;34m\u001b[0m\n\u001b[1;32m      1\u001b[0m \u001b[0;31m## UNIVERSAL\u001b[0m\u001b[0;34m\u001b[0m\u001b[0;34m\u001b[0m\u001b[0;34m\u001b[0m\u001b[0m\n\u001b[1;32m      2\u001b[0m \u001b[0;34m\u001b[0m\u001b[0m\n\u001b[0;32m----> 3\u001b[0;31m \u001b[0;32mfrom\u001b[0m \u001b[0mIPython\u001b[0m\u001b[0;34m.\u001b[0m\u001b[0mdisplay\u001b[0m\u001b[0;34m.\u001b[0m\u001b[0mIFrame\u001b[0m \u001b[0;32mimport\u001b[0m \u001b[0mHTML\u001b[0m\u001b[0;34m\u001b[0m\u001b[0;34m\u001b[0m\u001b[0m\n\u001b[0m\u001b[1;32m      4\u001b[0m \u001b[0;34m\u001b[0m\u001b[0m\n\u001b[1;32m      5\u001b[0m \u001b[0mHTML\u001b[0m\u001b[0;34m(\u001b[0m\u001b[0;34m'<iframe width=\"560\" height=\"315\" src=\"https://upload.wikimedia.org/wikipedia/commons/1/13/Avida_host-parasite_coevolution_web.ogv\" frameborder=\"0\" allowfullscreen></iframe>'\u001b[0m\u001b[0;34m)\u001b[0m\u001b[0;34m\u001b[0m\u001b[0;34m\u001b[0m\u001b[0m\n",
      "\u001b[0;31mModuleNotFoundError\u001b[0m: No module named 'IPython.display.IFrame'; 'IPython.display' is not a package"
     ]
    }
   ],
   "source": [
    "## UNIVERSAL\n",
    "\n",
    "from IPython.display.IFrame import HTML\n",
    "\n",
    "HTML('<iframe width=\"560\" height=\"315\" src=\"https://upload.wikimedia.org/wikipedia/commons/1/13/Avida_host-parasite_coevolution_web.ogv\" frameborder=\"0\" allowfullscreen></iframe>')\n",
    "\n",
    "#Title: Avida host-parasite coevolution web.ogv :: proxy genotype-phenotype map :: modularity vs integration\n",
    "#Author: Miguel A. Fortuna"
   ]
  },
  {
   "cell_type": "code",
   "execution_count": null,
   "metadata": {},
   "outputs": [],
   "source": [
    "# Convergence \n",
    "\n"
   ]
  },
  {
   "cell_type": "code",
   "execution_count": null,
   "metadata": {},
   "outputs": [],
   "source": []
  },
  {
   "cell_type": "markdown",
   "metadata": {
    "slideshow": {
     "slide_type": "subslide"
    }
   },
   "source": [
    " <script src='https://cdnjs.cloudflare.com/ajax/libs/mathjax/2.7.5/latest.js?config=TeX-AMS_HTML'></script>\n",
    "# Genomes in the landscape (threshold, $\\mathcal{D}_{max}$); $D$ = $[d_{ij}]$ and $d_{ij}$ $\\leq$ $\\mathcal{D}_{max}$\n",
    "\n",
    "<img src=\"figures/Threshold2.png\" alt=\"drawing\" width=\"800\"/>\n"
   ]
  },
  {
   "cell_type": "markdown",
   "metadata": {
    "slideshow": {
     "slide_type": "subslide"
    }
   },
   "source": [
    " <script src='https://cdnjs.cloudflare.com/ajax/libs/mathjax/2.7.5/latest.js?config=TeX-AMS_HTML'></script>\n",
    "\n",
    "# Gene flow, ($\\mathcal{M}$)\n",
    "\n",
    "\n",
    "Symmetric gene flow\n",
    "\\begin{equation}\n",
    "m_{ij}^{k} = \\frac{\\mathcal{M}}{d_{ij}}\n",
    "\\end{equation}\n",
    "\n",
    "Centripetal gene flow\n",
    "\\begin{equation}\n",
    "m_{ij}^{k} = \\left\\{\n",
    "\\begin{array}{ll}\n",
    " \\frac{\\mathcal{M}}{d_{ij}} & \\text{if} \\;\\;\\sum_{l=1}^{\\mathcal{S}}{d_{il}}\\leq \\sum_{l=1}^{\\mathcal{S}} d_{jl} ,  \\\\\n",
    " 0 & \\text{if} \\;\\;\\sum_{l=1}^{\\mathcal{S}} d_{il} > \\sum_{l=1}^{\\mathcal{S}} d_{jl}\n",
    "  \\end{array}\n",
    " \\right.\n",
    "\\end{equation}\n",
    "\n",
    "Centrifugal gene flow\n",
    "\\begin{equation}\n",
    "m_{ij}^{k} = \\left\\{\n",
    "\\begin{array}{ll}\n",
    " \\frac{\\mathcal{M}}{d_{ij}} & \\text{if} \\;\\;\\sum_{l=1}^{\\mathcal{S}}{d_{il}}\\geq \\sum_{l=1}^{\\mathcal{S}} d_{jl} ,  \\\\\n",
    " 0 & \\text{if} \\;\\;\\sum_{l=1}^{\\mathcal{S}} d_{il} < \\sum_{l=1}^{\\mathcal{S}} d_{jl}\n",
    "  \\end{array}\n",
    " \\right.\n",
    "\\end{equation}\n"
   ]
  },
  {
   "cell_type": "markdown",
   "metadata": {
    "slideshow": {
     "slide_type": "subslide"
    }
   },
   "source": [
    "\n",
    "<img src=\"figures/fig2all.png\" alt=\"drawing\" width=\"1000\"/> "
   ]
  },
  {
   "cell_type": "code",
   "execution_count": null,
   "metadata": {},
   "outputs": [],
   "source": []
  },
  {
   "cell_type": "markdown",
   "metadata": {
    "slideshow": {
     "slide_type": "slide"
    }
   },
   "source": [
    "# How would the next unifying diversification and biodiversity theory look like?  "
   ]
  },
  {
   "cell_type": "markdown",
   "metadata": {
    "slideshow": {
     "slide_type": "subslide"
    }
   },
   "source": [
    "\n",
    "<img src=\"figures/combinatorial.png\" alt=\"drawing\" width=\"600\"/> "
   ]
  },
  {
   "cell_type": "markdown",
   "metadata": {
    "slideshow": {
     "slide_type": "subslide"
    }
   },
   "source": [
    "## Hypo: \n",
    "\n",
    "### The big 4 layers (the grand scheme of things) \n",
    "#### System Biology -- Genomics -- Phenome -- Environments and Biogeography \n",
    "##### Universal? Bottom up?Top down? Independent? Hybrids? Fluctuating?\n",
    "\n",
    "<div>\n",
    "<img src=\"figures/Cas.pdf.png-1.png\" alt=\"drawing\" width=\"2500\"/>\n",
    "</div>\n"
   ]
  },
  {
   "cell_type": "markdown",
   "metadata": {
    "slideshow": {
     "slide_type": "skip"
    }
   },
   "source": [
    "## UNIVERSAL\n",
    "\n",
    "from IPython.display import HTML\n",
    "\n",
    "HTML('<iframe width=\"560\" height=\"315\" src=\"https://upload.wikimedia.org/wikipedia/commons/1/13/Avida_host-parasite_coevolution_web.ogv\" frameborder=\"0\" allowfullscreen></iframe>')\n",
    "\n",
    "#Title: Avida host-parasite coevolution web.ogv :: proxy genotype-phenotype map :: modularity vs integration\n",
    "#Author: Miguel A. Fortuna\n"
   ]
  },
  {
   "cell_type": "markdown",
   "metadata": {
    "slideshow": {
     "slide_type": "skip"
    }
   },
   "source": [
    "## GAPS\n",
    "\n",
    "<img src=\"figures/in.pdf.png-1.png\" alt=\"drawing\" width=\"700\"/>"
   ]
  },
  {
   "cell_type": "markdown",
   "metadata": {
    "slideshow": {
     "slide_type": "slide"
    }
   },
   "source": [
    "## Take home message\n",
    "\n",
    "### Speciation is a complex process -- physical, chemical and biological processes, all together can drive the emergence of new genotypes and phenotypes along diversification stages\n",
    "\n",
    "### External and internal factors combine to produce fluctuating selection regimes in space and time, that combined with the intensity and directionality of gene flow all might play a critical role to anticipate the radiation of a lineage and the formation of hot and cold spots in diversification\n",
    "\n",
    "### Toy models useful to understand main basic speciation processes -- yet, internal and external factors together with micro to macro dynamics are needed to connect small to large scale biodiversity patterns "
   ]
  }
 ],
 "metadata": {
  "@webio": {
   "lastCommId": null,
   "lastKernelId": null
  },
  "celltoolbar": "Slideshow",
  "kernelspec": {
   "display_name": "Python 3",
   "language": "python",
   "name": "python3"
  },
  "language_info": {
   "codemirror_mode": {
    "name": "ipython",
    "version": 3
   },
   "file_extension": ".py",
   "mimetype": "text/x-python",
   "name": "python",
   "nbconvert_exporter": "python",
   "pygments_lexer": "ipython3",
   "version": "3.7.3"
  }
 },
 "nbformat": 4,
 "nbformat_minor": 2
}
