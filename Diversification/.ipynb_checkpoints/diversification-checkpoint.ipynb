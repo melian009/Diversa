{
 "cells": [
  {
   "cell_type": "markdown",
   "metadata": {
    "slideshow": {
     "slide_type": "slide"
    }
   },
   "source": [
    "<font size=\"5\">\n",
    "\n",
    "### Eco-evolutionary dynamics on networks: From diversification to coexistence in complex ecosystems\n",
    "<font size=\"3\">\n",
    "    \n",
    "--------------------------------------------------------\n",
    "Ifisc, Mallorca, June 15, 2022\n",
    "--------------------------------------------------------\n"
   ]
  },
  {
   "cell_type": "markdown",
   "metadata": {
    "slideshow": {
     "slide_type": "subslide"
    }
   },
   "source": [
    "## Outline\n",
    "\n",
    "#### What is a species? \n",
    "#### How does the simplest diversification model look like? \n",
    "#### How does ecoevo feedback connect to speciation and diversification? \n",
    "#### How do diversification and coexistence connect each other in complex ecosystems?\n",
    "\n",
    "#### How to connect trait arquitecture and species interactions to understand ecological networks?\n",
    "#### How do we put systems biology, genomics, community ecology, and complex traits together?  "
   ]
  },
  {
   "cell_type": "markdown",
   "metadata": {
    "slideshow": {
     "slide_type": "subslide"
    }
   },
   "source": [
    "<img src=\"figures/collaborators.png\" alt=\"drawing\" width=\"800\"/>"
   ]
  },
  {
   "cell_type": "markdown",
   "metadata": {
    "slideshow": {
     "slide_type": "subslide"
    }
   },
   "source": [
    "### References \n",
    "\n",
    "<font size=\"2\">\n",
    "##### Biogeography\n",
    "\n",
    "* Hutchinson, G. (1957). Concluding remarks. Cold Spring Harb. Symp. Quant. Biol., 22: 415-427.  \n",
    "* Holt, R. D. (2009). Bringing the Hutchinsonian niche into the 21st century: ecological and evolutionary   perspectives. PNAS,106:19659-19665.\n",
    "* Blonder, B. et al (2014). The N-dimensional hypervolume. Global Ecology and Biogeography, 23:595-609.\n",
    "* Blonder, B. (2017). Hypervolume concepts in niche‐ and trait‐based ecology. Ecography, 41:1441-1455.\n",
    "* Barros, C. et al. 2016. N‐dimensional hypervolumes to study stability of complex ecosystems. Ecol. Lett., 19:729–742.\n",
    "\n",
    "#### Multivariate selection\n",
    "<font size=\"2\">\n",
    "* Lande (1980). The genetic covariance between characters mantained by pleiotropic mutations. Genetics, 94:203-215. \n",
    "* Melo and Marroig (2015). Directional selection can drive the evolution of modularity in complex traits. PNAS, 112:470-475.\n",
    "* Goswami et al (2015). The fossil record of phenotypic integration and modularity: A deep-time perspective on developmental and evolutionary dynamics. PNAS, 112:4891-4896.\n",
    "* Assis et al. (2020). Genetic correlations and ecological networks shape coevolving mutualisms. Ecology Letters 23:1789-1799.\n",
    "\n",
    "#### Genomics\n",
    "<font size=\"2\">\n",
    "* Boyle et al. (2017). An Expanded View of Complex Traits: From Polygenic to Omnigenic. Cell. 169:1177-1186.\n",
    "* Svensson et al. (2021). Correlational selection in the age of genomics. Nature Ecology and Evolution. https://doi.org/10.1038/s41559-021-01413-3\n",
    "\n",
    "#### Multilayer networks\n",
    "<font size=\"2\">\n",
    "* Sánchez-García et al. (2014). Dimensionality reduction and spectral properties of multilayer networks. Phys Rev E (Stat Nonlin Soft Matter Phys). 89:052815. \n",
    "* De Domenico et al. (2015). Structural reducibility of multilayer networks. Nat. Commun., 6:6864 https://doi.org/10.1038/ncomms7864\n",
    "* Melián et al. (2018). Deciphering the interdependence between ecological and evolutionary networks. TREE, 33:504-512.\n",
    "* Guimarães PR Jr. (2020). The structure of ecological networks across levels of organization. Annual Review of Ecology, Evolution, and Systematics 51:433-460.\n",
    "  "
   ]
  },
  {
   "cell_type": "markdown",
   "metadata": {
    "slideshow": {
     "slide_type": "slide"
    }
   },
   "source": [
    "### How many layers explain global biodiversity patterns? \n",
    "\n",
    "\n",
    "<img src=\"figures/global.pdf.png-1.png\" alt=\"drawing\" width=\"700\"/>"
   ]
  },
  {
   "cell_type": "markdown",
   "metadata": {
    "slideshow": {
     "slide_type": "slide"
    }
   },
   "source": [
    "<img src=\"figures/multilayerfoodweb.png\" alt=\"drawing\" width=\"800\"/>"
   ]
  },
  {
   "cell_type": "markdown",
   "metadata": {
    "slideshow": {
     "slide_type": "slide"
    }
   },
   "source": [
    "## Hypo: \n",
    "\n",
    "### The big 4 layers (the grand scheme of things) \n",
    "#### System Biology -- Genomics -- Phenome -- Environments and Biogeography \n",
    "##### Universal? Bottom up?Top down? Independent? Hybrids? Fluctuating?\n",
    "\n",
    "<div>\n",
    "<img src=\"figures/Cas.pdf.png-1.png\" alt=\"drawing\" width=\"2000\"/>\n",
    "</div>\n"
   ]
  },
  {
   "cell_type": "markdown",
   "metadata": {
    "slideshow": {
     "slide_type": "subslide"
    }
   },
   "source": [
    "\n",
    "###  How many layers?\n",
    "\n",
    "#### The dream robot\n",
    "   \n",
    "* Sampling: rarefaction oky\n",
    "* Models: model building strategy oky\n",
    "* Species: species boundary oky\n",
    "* Hypo: Universal level oky\n",
    "* RESPONSE -- UNIVERSAL EXPLAINS YOUR DATA oky dokky!\n",
    "-----------------------------------------------------------------  \n",
    "* Sampling? ## register jupyter\n",
    "* Model building strategy? ## register levix\n",
    "* Species boundaries? ## register mars\n",
    "* Hypo: Universal? Bottom up? Top down? Independent? Hybrids? Fluctuating? ##reg multiverse\n"
   ]
  },
  {
   "cell_type": "markdown",
   "metadata": {
    "slideshow": {
     "slide_type": "subslide"
    }
   },
   "source": [
    "# Model building strategy\n",
    "![title](figures/TradeOffs1.png)"
   ]
  },
  {
   "cell_type": "markdown",
   "metadata": {
    "slideshow": {
     "slide_type": "subslide"
    }
   },
   "source": [
    "# Model complexity reduction\n",
    "![title](figures/complex2.png)"
   ]
  },
  {
   "cell_type": "markdown",
   "metadata": {
    "slideshow": {
     "slide_type": "subslide"
    }
   },
   "source": [
    "# Species boundaries\n",
    "\n",
    "![title](figures/ikeko.gif)"
   ]
  },
  {
   "cell_type": "code",
   "execution_count": 1,
   "metadata": {
    "slideshow": {
     "slide_type": "subslide"
    }
   },
   "outputs": [
    {
     "name": "stderr",
     "output_type": "stream",
     "text": [
      "/home/melian/anaconda3/lib/python3.7/site-packages/IPython/core/display.py:689: UserWarning: Consider using IPython.display.IFrame instead\n",
      "  warnings.warn(\"Consider using IPython.display.IFrame instead\")\n"
     ]
    },
    {
     "data": {
      "text/html": [
       "<iframe width=\"560\" height=\"315\" src=\"https://upload.wikimedia.org/wikipedia/commons/1/13/Avida_host-parasite_coevolution_web.ogv\" frameborder=\"0\" allowfullscreen></iframe>"
      ],
      "text/plain": [
       "<IPython.core.display.HTML object>"
      ]
     },
     "execution_count": 1,
     "metadata": {},
     "output_type": "execute_result"
    }
   ],
   "source": [
    "## UNIVERSAL\n",
    "\n",
    "from IPython.display import HTML\n",
    "\n",
    "HTML('<iframe width=\"560\" height=\"315\" src=\"https://upload.wikimedia.org/wikipedia/commons/1/13/Avida_host-parasite_coevolution_web.ogv\" frameborder=\"0\" allowfullscreen></iframe>')\n",
    "\n",
    "#Title: Avida host-parasite coevolution web.ogv :: proxy genotype-phenotype map :: modularity vs integration\n",
    "#Author: Miguel A. Fortuna\n"
   ]
  },
  {
   "cell_type": "markdown",
   "metadata": {
    "slideshow": {
     "slide_type": "slide"
    }
   },
   "source": [
    "## GAPS\n",
    "\n",
    "<img src=\"figures/in.pdf.png-1.png\" alt=\"drawing\" width=\"700\"/>"
   ]
  },
  {
   "cell_type": "markdown",
   "metadata": {
    "slideshow": {
     "slide_type": "slide"
    }
   },
   "source": [
    "### Models as a eco-evo multilayer network\n",
    "\n",
    "* pip install jupyter : system biology\n",
    "* pip install jupyter : genomics species\n",
    "* pip install jupyter : community ecology \n",
    "* pip install jupyter ; complex trait\n",
    "###### ------------------------------------------------------------------\n",
    "* Modularity ## register levix\n",
    "* Omnigenic ## register levix\n",
    "* Master trait ## register levix\n",
    "* Complex trait ## register levix"
   ]
  },
  {
   "cell_type": "markdown",
   "metadata": {
    "slideshow": {
     "slide_type": "subslide"
    }
   },
   "source": [
    "## System biology\n",
    "\n",
    "<img src=\"figures/IntegrationGradient.png\" alt=\"drawing\" width=\"800\"/>"
   ]
  },
  {
   "cell_type": "markdown",
   "metadata": {
    "slideshow": {
     "slide_type": "subslide"
    }
   },
   "source": [
    "## Genomics\n",
    "\n",
    "<img src=\"figures/Omnigenic.png\" alt=\"drawing\" width=\"800\"/>"
   ]
  },
  {
   "cell_type": "markdown",
   "metadata": {
    "slideshow": {
     "slide_type": "subslide"
    }
   },
   "source": [
    "## Community Ecology\n",
    "\n",
    "<img src=\"figures/Ecology.png\" alt=\"drawing\" width=\"400\"/>"
   ]
  },
  {
   "cell_type": "markdown",
   "metadata": {
    "slideshow": {
     "slide_type": "subslide"
    }
   },
   "source": [
    "## Complex trait\n",
    "\n",
    "<img src=\"figures/Sticklebacks.pdf.png-1.png\" alt=\"drawing\" heigth =\"700\" width=\"700\"/>"
   ]
  },
  {
   "cell_type": "markdown",
   "metadata": {
    "slideshow": {
     "slide_type": "subslide"
    }
   },
   "source": [
    "#### Visualization eco-evo multilayer\n",
    "<img src=\"figures/evo1v2.pdf.png-1.png\" alt=\"drawing\" heigth =\"700\" width=\"700\"/>"
   ]
  },
  {
   "cell_type": "markdown",
   "metadata": {
    "slideshow": {
     "slide_type": "subslide"
    }
   },
   "source": [
    "<img src=\"figures/TD.pdf.png-1.png\" alt=\"drawing\" heigth =\"700\" width=\"700\"/>"
   ]
  },
  {
   "cell_type": "markdown",
   "metadata": {
    "slideshow": {
     "slide_type": "subslide"
    }
   },
   "source": [
    "... and the interaction rate between prey $x$ with trait value $z_{x}^{t}$ and \n",
    "    predator $y$ with trait value $z_{y}^{t}$ in patch $i$ is \n",
    "\n",
    "$$\\hspace{-3.75 in} \\gamma^{t}_{ixy} =  \\frac{1}{N} \\left( exp \\left[ -\\left(z^{t}_{y} - z^{t}_{x}\\right)^2 \\right] + 2\\alpha \\left[sgn(z^{t}_{y} - z^{t}_{x}) \\left(1 - exp \\left(-z^{t}_{y} - z^{t}_{x}\\right)^2 \\right) \\\\ + sgn(\\alpha) \\right] \\right)\n",
    "$$\n",
    "where $N$ is a normalization constant, $sgn(X)$ is the sign function\n",
    "and $\\alpha$ is the prey preference asymmetry... and the interaction\n",
    "strength between prey $x$ for a specific intraspecific niche width\n",
    "($ianw$) of the predator $y$ in patch $i$ at time $t$ can then be\n",
    "  $$a^{t}_{ixy} = \\int_{ianw} \\gamma^{t}_{ixy} D(x)^{t} D(y)^{t} \\mathrm{d}x \\mathrm{d}y$$,\n",
    "where $D(x)$ and $D(y)$ are the density of the prey and predator in patch $i$,\n",
    "respectively."
   ]
  },
  {
   "cell_type": "markdown",
   "metadata": {
    "slideshow": {
     "slide_type": "subslide"
    }
   },
   "source": [
    "<img src=\"figures/TDIS.pdf.png-1.png\" alt=\"drawing\" heigth =\"700\" width=\"700\"/>"
   ]
  },
  {
   "cell_type": "markdown",
   "metadata": {
    "slideshow": {
     "slide_type": "slide"
    }
   },
   "source": [
    "## Species\n",
    "-------------------------------------------\n",
    "<code>&nbsp;</code>\n",
    "\n",
    "$$$ pip install jupyter : biogeography\n",
    "$------------------------------------------------------------------\n",
    "> BAM! ## register levix$$"
   ]
  },
  {
   "cell_type": "markdown",
   "metadata": {
    "slideshow": {
     "slide_type": "subslide"
    }
   },
   "source": [
    "# Biogeography\n",
    "\n",
    "<img src=\"figures/EltoGriHutNiche.png\" alt=\"drawing\" width=\"600\"/>"
   ]
  },
  {
   "cell_type": "markdown",
   "metadata": {
    "collapsed": true,
    "slideshow": {
     "slide_type": "subslide"
    }
   },
   "source": [
    "![title](figures/BAMc.png)\n",
    "\n",
    "\n",
    "![title](figures/BAM.png)\n",
    "\n"
   ]
  },
  {
   "cell_type": "markdown",
   "metadata": {
    "slideshow": {
     "slide_type": "subslide"
    }
   },
   "source": [
    "<img src=\"figures/correlationtraits.png\" alt=\"drawing\" width=\"700\"/>"
   ]
  },
  {
   "cell_type": "markdown",
   "metadata": {
    "slideshow": {
     "slide_type": "subslide"
    }
   },
   "source": [
    "![title](figures/BAMc.png)\n",
    "\n",
    "<font size=\"2\">\n",
    "    \n",
    "${\\bf \\Omega_{BAM}}$ = \n",
    "$\\begin{bmatrix} \n",
    "V_B & C_{BA} & C_{BM} \\\\ \n",
    "C_{AB} & V_A & C_{AM} \\\\ \n",
    "C_{MB} & C_{MA} & V_M  \n",
    "\\end{bmatrix}$\n",
    "\n",
    "$\\mathbf{W}({\\bf z})^{t}_{ix} = exp[-\\gamma({\\color{red}[{\\bf z}^{t}_{ix} - {\\bf \\theta^{t}}_{ix}\\color{red}]^T} {\\bf \\Omega_{BAM}}^{-1} {\\color{red}[{\\bf z}^{t}_{ix} - {\\bf \\theta^{t}}_{ix}\\color{red}]})]$\n",
    "\n",
    "\n",
    "$\\underbrace{\\begin{bmatrix}\n",
    " W({\\bf z_{B}}^{t}_{ix})     \\\\\n",
    " W({\\bf z_{A}}^{t}_{ix})     \\\\\n",
    " \\vdots  \\\\\n",
    " W({\\bf z_{M}}^{t}_{ix})     \\\\\n",
    "            \\end{bmatrix}\n",
    "          }_{\\mathbf{W}}$\n",
    "           = $\\underbrace{\\begin{bmatrix}\n",
    " W({B}^{t}_{ix})^{*}     \\\\\n",
    " W({A}^{t}_{ix})^{*}     \\\\\n",
    " \\vdots  \\\\\n",
    " W({M}^{t}_{ix})^{*}     \\\\\n",
    "            \\end{bmatrix}^{T}\n",
    "             }_{\\mathbf{W}}$\n",
    "$\\underbrace{\\begin{bmatrix}\n",
    "V_{B}       &   C_{BA}       & \\dots     &   C_{BM}       \\\\\n",
    "C_{AB}       &   V_{A}       & \\dots     &   C_{AM}       \\\\\n",
    "\\vdots  &  \\vdots   &   \\vdots  &   \\vdots  \\\\   \n",
    "C_{MB}       &   C_{MA}      & \\dots     &   V_{M}       \\\\\n",
    "            \\end{bmatrix}^{-1}\n",
    "            }_{\\mathbf{\\Omega_{BAM}}}$\n",
    "$\\underbrace{\\begin{bmatrix}\n",
    "W({B}^{t}_{ix})^{*}     \\\\\n",
    "W({A}^{t}_{ix})^{*}     \\\\\n",
    "\\vdots  \\\\\n",
    "W({M}^{t}_{ix})^{*}     \\\\\n",
    "            \\end{bmatrix}\n",
    "             }_{\\mathbf{W}}$\n",
    "\n",
    "\n"
   ]
  },
  {
   "cell_type": "markdown",
   "metadata": {
    "slideshow": {
     "slide_type": "subslide"
    }
   },
   "source": [
    "<img src=\"figures/Heatmap.pdf.png-1.png\" alt=\"drawing\" width=\"900\"/>"
   ]
  },
  {
   "cell_type": "markdown",
   "metadata": {
    "slideshow": {
     "slide_type": "slide"
    }
   },
   "source": [
    "<img src=\"figures/demography.pdf.png-1.png\" alt=\"drawing\" width=\"700\"/>\n"
   ]
  },
  {
   "cell_type": "markdown",
   "metadata": {
    "slideshow": {
     "slide_type": "slide"
    }
   },
   "source": [
    "#### Take home message\n",
    "\n",
    "### Mensaje para llevar a casa  ---  Levar mensagem para casa\n",
    "###  How many layers? Quantas camadas? Cuantas capas?\n",
    "## The real robot\n",
    "\n",
    "----------------------------------------------------------------------    \n",
    "* pip install jupyter :: 1. sampling 2. models 3. species 4. hypo\n",
    "* rarefaction \n",
    "* model building strategy \n",
    "* species boundary \n",
    "* Hypo: Universal? Bottom up? Independent? Hybrids? Fluctuating? \n",
    "    \n",
    "------------------------------------------------------------------\n",
    "* #### RESPONSE 1 Strong bias in samplings observed in rarefaction curves \n",
    "* #### RESPONSE 2 Multilayer network along a complexity gradient\n",
    "* #### RESPONSE 3 No species boundary found -- infinite variance observed\n",
    "* #### RESPONSE 4 Combination of hypothesis"
   ]
  }
 ],
 "metadata": {
  "@webio": {
   "lastCommId": null,
   "lastKernelId": null
  },
  "celltoolbar": "Slideshow",
  "kernelspec": {
   "display_name": "Python 3 (ipykernel)",
   "language": "python",
   "name": "python3"
  },
  "language_info": {
   "codemirror_mode": {
    "name": "ipython",
    "version": 3
   },
   "file_extension": ".py",
   "mimetype": "text/x-python",
   "name": "python",
   "nbconvert_exporter": "python",
   "pygments_lexer": "ipython3",
   "version": "3.8.8"
  }
 },
 "nbformat": 4,
 "nbformat_minor": 2
}
