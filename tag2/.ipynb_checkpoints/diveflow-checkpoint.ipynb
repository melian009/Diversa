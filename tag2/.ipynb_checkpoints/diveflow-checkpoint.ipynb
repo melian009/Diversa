{
 "cells": [
  {
   "cell_type": "markdown",
   "metadata": {
    "slideshow": {
     "slide_type": "slide"
    }
   },
   "source": [
    "<font size=\"5\">\n",
    "\n",
    "### Diversification, trait architecture and coexistence in complex ecosystems\n",
    "<font size=\"3\">\n",
    "    \n",
    "--------------------------------------------------------\n",
    "Carlos J. Melián, EAWAG\n",
    "    \n",
    "\n",
    "WSL, November 16, 2022\n",
    "### Download from https://github.com/melian009/Diversa.git\n",
    "--------------------------------------------------------\n",
    "   "
   ]
  },
  {
   "cell_type": "markdown",
   "metadata": {
    "slideshow": {
     "slide_type": "subslide"
    }
   },
   "source": [
    "\n",
    "\n",
    "<img src=\"figures/collaboratorsnew2.png\" alt=\"drawing\" width=\"800\"/>"
   ]
  },
  {
   "cell_type": "markdown",
   "metadata": {
    "slideshow": {
     "slide_type": "subslide"
    }
   },
   "source": [
    "# Outline\n",
    "\n",
    "# What is a species? \n",
    "## Does diversification increase in the tropics?\n",
    "### Why are there some lineages with many species while others have just a few?\n",
    "#### How do diversification and coexistence connect each other in complex ecosystems?\n",
    "##### How does the next unifying diversification theory look like?"
   ]
  },
  {
   "cell_type": "markdown",
   "metadata": {
    "slideshow": {
     "slide_type": "subslide"
    }
   },
   "source": [
    "### References \n",
    "\n",
    "#### What is a species?\n",
    "* Mayr, E. (1942). Systematics and the origin of species from the viewpoint of a zoologist. New York: Columbia University Press.\n",
    "* Higgs PG, Derrida B (1992) Genetic distance and species formation in evolving populations. J. Mol. Evol., 35:454–465."
   ]
  },
  {
   "cell_type": "markdown",
   "metadata": {
    "slideshow": {
     "slide_type": "subslide"
    }
   },
   "source": [
    "#### Do the tropics produce more species?\n",
    "\n",
    "* Brown, J. (2014). Why are there so many species in the tropics? J. of Biogeography, 41:8-22  \n",
    "* Mannion, P. D., et al (2014). The latitudinal biodiversity gradient through deep time. TREE, 29:42-50.\n",
    "* Leprieur, F. et al. (2016). Plate tectonics drive tropical reef biodiversity dynamics. Nature Communications, 7:1-8       "
   ]
  },
  {
   "cell_type": "markdown",
   "metadata": {
    "slideshow": {
     "slide_type": "subslide"
    }
   },
   "source": [
    "\n",
    "#### Why are there some lineages with many species while others have just a few?\n",
    "\n",
    "* Davies, TJ, Allen, AP, Borda‐de‐Água, L, Regetz, J, and Melián CJ (2011). Neutral biodiversity theory can explain the imbalance of phylogenetic trees but not the tempo of their diversification. Evolution 65:1841-1850.\n",
    "* Wagner, C. E. (2012). Ecological opportunity and sexual selection together predict adaptive radiation. Nature, 487:366-369.    \n"
   ]
  },
  {
   "cell_type": "markdown",
   "metadata": {
    "slideshow": {
     "slide_type": "subslide"
    }
   },
   "source": [
    "\n",
    "#### How do diversification and coexistence connect each other in complex ecosystems?\n",
    "\n",
    "* Brown, W. L. Jr. (1957). Centrifugal Speciation. The Quarterly Review of Biology, 32:247-277.\n",
    "* Melián CJ, Alonso D, Vázquez DP, Regetz J, and Allesina S (2010) Frequency-Dependent Selection Predicts Patterns of Radiations and Biodiversity. PLOS Comput. Biol., 6:e1000892. \n",
    "* Melián CJ, Alonso D, Allesina S, Condit RS, and Etienne RS (2012) Does Sex Speed Up Evolutionary Rate and Increase Biodiversity?. PLOS Comput. Biol., 8:e1002414.\n",
    "* Melián CJ, Seehausen O, Eguíluz VM, Fortuna MA, and Deiner K (2015). Diversification and biodiversity dynamics of hot and cold spots. Ecography, 38:393-401. \n",
    "* Encinas, F, Etienne R, and Melián CJ (2022). Eco-evolutionary diversification of trait convergence and complementarity in mutualistic networks (In prep.) "
   ]
  },
  {
   "cell_type": "markdown",
   "metadata": {
    "slideshow": {
     "slide_type": "subslide"
    }
   },
   "source": [
    "#### How does the next unifying diversification theory look like?\n",
    "\n",
    "* Marques, DA, Meier, JI and Seehausen O. (2019). A combinatorial view on speciation and adaptive radiation. Trends in ecology and evolution 34:531-544    "
   ]
  },
  {
   "cell_type": "code",
   "execution_count": 4,
   "metadata": {
    "slideshow": {
     "slide_type": "skip"
    }
   },
   "outputs": [
    {
     "data": {
      "text/html": [
       "<style>.container { width:100% !important; }</style>"
      ],
      "text/plain": [
       "<IPython.core.display.HTML object>"
      ]
     },
     "metadata": {},
     "output_type": "display_data"
    }
   ],
   "source": [
    "from IPython.core.display import display, HTML\n",
    "display(HTML(\"<style>.container { width:100% !important; }</style>\"))"
   ]
  },
  {
   "cell_type": "markdown",
   "metadata": {
    "slideshow": {
     "slide_type": "slide"
    }
   },
   "source": [
    "\n",
    "\n",
    "# What is a species? \n",
    "\n"
   ]
  },
  {
   "cell_type": "markdown",
   "metadata": {
    "slideshow": {
     "slide_type": "subslide"
    }
   },
   "source": [
    "### Species boundaries\n",
    "\n",
    "![title](figures/ikeko.gif)"
   ]
  },
  {
   "cell_type": "markdown",
   "metadata": {
    "slideshow": {
     "slide_type": "subslide"
    }
   },
   "source": [
    " <script src='https://cdnjs.cloudflare.com/ajax/libs/mathjax/2.7.5/latest.js?config=TeX-AMS_HTML'></script>\n",
    " ### Given population size, $\\mathcal{J}$, genome size, $\\mathcal{L}$, and mutation rate, $\\mu$\n",
    "\n",
    "\n",
    "<img src=\"figures/DNAsequence.png\" alt=\"drawing\" width=\"800\"/>\n",
    "\n"
   ]
  },
  {
   "cell_type": "markdown",
   "metadata": {
    "slideshow": {
     "slide_type": "subslide"
    }
   },
   "source": [
    "<script src='https://cdnjs.cloudflare.com/ajax/libs/mathjax/2.7.5/latest.js?config=TeX-AMS_HTML'></script>\n",
    "### Genomes in a mating graph  $\\mathcal{Q}$ = $[q_{ij}]$ for all $q_{ij} > \\mathcal{Q}_{min}$\n",
    "\n",
    "<img src=\"figures/DNAsequence1.png\" alt=\"drawing\" height=\"1200\" width=\"1200\"/>"
   ]
  },
  {
   "cell_type": "markdown",
   "metadata": {
    "slideshow": {
     "slide_type": "subslide"
    }
   },
   "source": [
    "\n",
    "<img src=\"figures/Stage1.png\" alt=\"drawing\" width=\"500\"/>"
   ]
  },
  {
   "cell_type": "markdown",
   "metadata": {
    "slideshow": {
     "slide_type": "subslide"
    }
   },
   "source": [
    "\n",
    "<img src=\"figures/Stage2.png\" alt=\"drawing\" width=\"500\"/>"
   ]
  },
  {
   "cell_type": "markdown",
   "metadata": {
    "slideshow": {
     "slide_type": "subslide"
    }
   },
   "source": [
    "\n",
    "<img src=\"figures/Stage3.png\" alt=\"drawing\" width=\"500\"/>"
   ]
  },
  {
   "cell_type": "markdown",
   "metadata": {
    "slideshow": {
     "slide_type": "subslide"
    }
   },
   "source": [
    "\n",
    "<img src=\"figures/Stage4.png\" alt=\"drawing\" width=\"500\"/>"
   ]
  },
  {
   "cell_type": "code",
   "execution_count": null,
   "metadata": {
    "slideshow": {
     "slide_type": "skip"
    }
   },
   "outputs": [],
   "source": [
    " // https://github.com/jupyter/nbconvert/issues/%%% 925 //"
   ]
  },
  {
   "cell_type": "markdown",
   "metadata": {
    "slideshow": {
     "slide_type": "subslide"
    }
   },
   "source": [
    " <script src='https://cdnjs.cloudflare.com/ajax/libs/mathjax/2.7.5/latest.js?config=TeX-AMS_HTML'></script>\n",
    " \n",
    " \n",
    " Given $\\Large \\mathcal{J}$, $\\Large \\mu$ and $\\Large \\mathcal{Q}_{min} > Q^{*}$ $\\rightarrow$ $\\Large Q^{*}$ = $\\Large \\frac{1}{4J\\mu + 1}$\n",
    " \n",
    " \n",
    " Given $\\Large \\mathcal{J}$, $\\Large \\mu$ and $\\Large \\mathcal{Q}_{min} < Q^{*}$ $\\rightarrow$ Clusters \n"
   ]
  },
  {
   "cell_type": "markdown",
   "metadata": {
    "slideshow": {
     "slide_type": "subslide"
    }
   },
   "source": [
    "<img src=\"figures/mutation.png\" alt=\"drawing\" width=\"600\"/>"
   ]
  },
  {
   "cell_type": "markdown",
   "metadata": {
    "slideshow": {
     "slide_type": "subslide"
    }
   },
   "source": [
    " <script src='https://cdnjs.cloudflare.com/ajax/libs/mathjax/2.7.5/latest.js?config=TeX-AMS_HTML'></script>\n",
    " \n",
    " ... and the emergence of clusters have different rates\n",
    "\n",
    "Asexual reproduction: $\\rightarrow$ $n_{asex}^{\\ast}$ = $\\Large - \\frac{log (\\mathcal{Q}_{min})}{2\\mu}$\n",
    "\n",
    "Sexual reproduction: $\\rightarrow$ $n_{sex}^{\\ast}$ = $\\Large \\frac{log (\\mathcal{Q}_{min})}{-2\\mu +log \\left[ \\left(\\mathcal{Q}_{min}+3\\right) /4\\right]}$\n",
    "\n",
    "And $n_{asex}^{\\ast}$ $>$ $n_{sex}^{\\ast}$ in all cases,\n",
    "\n",
    "\n",
    "so $1/n_{sex}^{\\ast}$ ($\\nu_{sex}$) $>$ $1/n_{asex}^{\\ast}$ ($\\nu_{asex}$)"
   ]
  },
  {
   "cell_type": "markdown",
   "metadata": {
    "slideshow": {
     "slide_type": "slide"
    }
   },
   "source": [
    "# Does diversification increase in the tropics? "
   ]
  },
  {
   "cell_type": "markdown",
   "metadata": {
    "slideshow": {
     "slide_type": "subslide"
    }
   },
   "source": [
    "\n",
    "<img src=\"figures/global.pdf.png-1.png\" alt=\"drawing\" width=\"900\"/>"
   ]
  },
  {
   "cell_type": "markdown",
   "metadata": {
    "slideshow": {
     "slide_type": "subslide"
    }
   },
   "source": [
    "### The Late Cretaceous dinosaur latitudinal biodiversity gradient (LBG)\n",
    "\n",
    "<img src=\"figures/1-s2.0-S0169534713002358-gr3.jpg\" alt=\"drawing\" width=\"900\"/>\n"
   ]
  },
  {
   "cell_type": "code",
   "execution_count": 17,
   "metadata": {
    "slideshow": {
     "slide_type": "subslide"
    }
   },
   "outputs": [
    {
     "data": {
      "text/html": [
       "<video src=\"figures/animation/SmithPaleogeo_1d_138Ma-1Ma.mp4\" controls  >\n",
       "      Your browser does not support the <code>video</code> element.\n",
       "    </video>"
      ],
      "text/plain": [
       "<IPython.core.display.Video object>"
      ]
     },
     "execution_count": 17,
     "metadata": {},
     "output_type": "execute_result"
    }
   ],
   "source": [
    "from IPython.display import Video\n",
    "Video('figures/animation/SmithPaleogeo_1d_138Ma-1Ma.mp4')"
   ]
  },
  {
   "cell_type": "markdown",
   "metadata": {
    "slideshow": {
     "slide_type": "subslide"
    }
   },
   "source": [
    "##### A mechanistic model based only on habitat-driven diversification and dispersal (right) yields realistic predictions of current biodiversity patterns for corals (left).\n",
    "<img src=\"figures/natcom.png\" alt=\"drawing\" width=\"600\"/>"
   ]
  },
  {
   "cell_type": "markdown",
   "metadata": {
    "slideshow": {
     "slide_type": "subslide"
    }
   },
   "source": [
    "# LBG might be gone in deep time. Environmental gradients and landscape dynamics in time and space are external explanations for diversifying lineages."
   ]
  },
  {
   "cell_type": "markdown",
   "metadata": {
    "slideshow": {
     "slide_type": "slide"
    }
   },
   "source": [
    "# Why are there some lineages with many species while others have just a few?"
   ]
  },
  {
   "cell_type": "markdown",
   "metadata": {
    "slideshow": {
     "slide_type": "subslide"
    }
   },
   "source": [
    "<img src=\"figures/biogeographyradiations.png\" alt=\"drawing\" width=\"700\"/>"
   ]
  },
  {
   "cell_type": "markdown",
   "metadata": {
    "slideshow": {
     "slide_type": "skip"
    }
   },
   "source": [
    "# How do diversification and coexistence connect each other in ecosystems?"
   ]
  },
  {
   "cell_type": "markdown",
   "metadata": {
    "slideshow": {
     "slide_type": "subslide"
    }
   },
   "source": [
    "                                           ### Experimental evolution\n",
    "<img src=\"figures/adaptiveradiation.png\" alt=\"drawing\" width=\"300\"/>"
   ]
  },
  {
   "cell_type": "markdown",
   "metadata": {
    "slideshow": {
     "slide_type": "slide"
    }
   },
   "source": [
    "#### What if DNA, genomic processes, development, gene expression, behavior, sexual selection all embedded in complex trait architectures combine with external factors to produce a set of interacting layers challenging any attempt to build a solid diversification theory?\n"
   ]
  },
  {
   "cell_type": "markdown",
   "metadata": {
    "slideshow": {
     "slide_type": "subslide"
    }
   },
   "source": [
    "<img src=\"figures/IntegrationGradient.png\" alt=\"drawing\" width=\"900\"/>"
   ]
  },
  {
   "cell_type": "markdown",
   "metadata": {
    "slideshow": {
     "slide_type": "subslide"
    }
   },
   "source": [
    "<img src=\"figures/EltoGriHutNiche.png\" alt=\"drawing\" width=\"900\"/>"
   ]
  },
  {
   "cell_type": "markdown",
   "metadata": {
    "slideshow": {
     "slide_type": "subslide"
    }
   },
   "source": [
    "<img src=\"figures/correlationtraits.png\" alt=\"drawing\" width=\"900\"/>"
   ]
  },
  {
   "cell_type": "markdown",
   "metadata": {
    "slideshow": {
     "slide_type": "subslide"
    }
   },
   "source": [
    "<img src=\"figures/Fig2cometa.png\" alt=\"drawing\" width=\"900\"/>"
   ]
  },
  {
   "cell_type": "markdown",
   "metadata": {
    "slideshow": {
     "slide_type": "subslide"
    }
   },
   "source": [
    "<img src=\"figures/Heatmap.pdf.png-1.png\" alt=\"drawing\" width=\"900\"/>"
   ]
  },
  {
   "cell_type": "markdown",
   "metadata": {
    "slideshow": {
     "slide_type": "slide"
    }
   },
   "source": [
    "# A synthesis for a diversification theory?"
   ]
  },
  {
   "cell_type": "markdown",
   "metadata": {
    "slideshow": {
     "slide_type": "subslide"
    }
   },
   "source": [
    "\n",
    "<img src=\"figures/combinatorial.png\" alt=\"drawing\" width=\"600\"/> "
   ]
  },
  {
   "cell_type": "markdown",
   "metadata": {
    "slideshow": {
     "slide_type": "slide"
    }
   },
   "source": [
    "## Take home message\n",
    "\n",
    "* Speciation is a complex process -- physical, chemical and biological processes drive the divergence of new genotype-phenotype maps and complex trait architectures along a sequence of diversification stages\n",
    "\n",
    "* External and internal factors combine to produce heterogeneous diversification patterns in space and time. A diversification theory connecting the two is currently missing\n",
    "\n",
    "* Toy models useful to understand basic diversification processes -- current data suggest systems biology, genomics, phenomes, and fluctuating environments and landscapes all together are needed to connect micro to macro diversification and biodiversity patterns "
   ]
  }
 ],
 "metadata": {
  "@webio": {
   "lastCommId": null,
   "lastKernelId": null
  },
  "celltoolbar": "Slideshow",
  "kernelspec": {
   "display_name": "Python 3 (ipykernel)",
   "language": "python",
   "name": "python3"
  },
  "language_info": {
   "codemirror_mode": {
    "name": "ipython",
    "version": 3
   },
   "file_extension": ".py",
   "mimetype": "text/x-python",
   "name": "python",
   "nbconvert_exporter": "python",
   "pygments_lexer": "ipython3",
   "version": "3.10.6"
  }
 },
 "nbformat": 4,
 "nbformat_minor": 2
}
